{
 "cells": [
  {
   "cell_type": "raw",
   "metadata": {
    "_uuid": "b0a901586dab16f501b400a30a1525e1903063fa"
   },
   "source": [
    "layout: single\n",
    "title: Training a RNN to generate dialogs for The Office\n",
    "header:\n",
    "  overlay_image: /assets/images/headers/papers.jpg\n",
    "  overlay_filter: \"0.5\"\n",
    "  caption: \"[Unsplash](https://unsplash.com/photos/MldQeWmF2_g)\"\n",
    "excerpt: \"Long short-term memory cells were used as part of the RNN\"\n",
    "categories:\n",
    "  - Deep Learning\n",
    "tags:\n",
    "  - ml\n",
    "  - machine learning\n",
    "  - rnn\n",
    "  - ai\n",
    "  - aritficial intelligence\n",
    "  - keras"
   ]
  },
  {
   "cell_type": "markdown",
   "metadata": {
    "_uuid": "74ccea01469e7638fbad245c217c8b8c2b2f79fa"
   },
   "source": [
    "I try out a Recurrent Neural Network in [this notebook](https://www.kaggle.com/pradhyo/keras-lstm-script-generator?scriptVersionId=9466911) to try and generate TV scripts for the Office. While the output was nowhere near being realistic, it was still interesting looking at some of the lines generated using this method.\n",
    "\n",
    "Here's some sample output. The complete outputs are [here](https://github.com/Pradhyo/machine-learning-practice-notebooks/blob/master/text-generation/generated_script.txt) and [here](https://github.com/Pradhyo/machine-learning-practice-notebooks/blob/master/text-generation/phyllis_script.txt) (lines only from Phyllis).\n",
    "> jim: i know, i’m not saying it. pam: how do you know a joke? phyllis: i don’t think we should get in here. dwight: thank you. pam: i want to be working on the phone? jim: oh, hey, darryl. what do you mean? michael: oh, thanks. jim: i want to go? andy: yeah. kevin: i'm sorry\n",
    "\n",
    "The first thing to do was to fetch the lines from the Office so I wrote [some web scraping code for this](https://github.com/Pradhyo/the-office-us-tv-show). I first learned about Recurrent Neural Networks from my [Deep Learning Nanodegree](https://www.udacity.com/course/deep-learning-nanodegree--nd101) and did a [similar project](https://github.com/Pradhyo/udacity-deep-learning-nanodegree/tree/master/tv-script-generation) there using Tensorflow but I wanted to try this out with Keras. \n",
    "\n",
    "I found [this notebook](https://github.com/fchollet/deep-learning-with-python-notebooks/blob/master/8.1-text-generation-with-lstm.ipynb) that contains the Keras implementation but when I tried to run it as is as the first step with the Office dataset, it exceeded the time limit on [Kaggle Kernels with a free GPU](https://www.kaggle.com/dansbecker/running-kaggle-kernels-with-a-gpu) despite their very generous 9 hour limit.\n",
    "\n",
    "So I started modifying the code and decided to use words instead of characters thinking it will produce better results since the output from the original code had some invalid words. This way the model would just have learn to form sentences and not learn to form words too. However this resulted in the kernel running out of memory due to the huge increase in number of building blocks - there were around 70 unique characters before but around 10,000 unique words. \n",
    "\n",
    "To reduce the amount of unique words, I first removed lines of everyone other than Michael but since he had a lot of lines, the data was still too much. I ended up using just the lines for Phylis and ended up with some good results. Since I wanted to capture the styles of all actors, I decided another approach to reduce the data - getting the top 2000 common words and considering just the lines made of these words.\n",
    "\n",
    "All of these steps can be seen in this [initial notebook](https://github.com/Pradhyo/machine-learning-practice-notebooks/blob/master/text-generation/keras-lstm-script-generator-scratchpad.ipynb)."
   ]
  },
  {
   "cell_type": "code",
   "execution_count": 1,
   "metadata": {
    "_cell_guid": "b1076dfc-b9ad-4769-8c92-a6c4dae69d19",
    "_uuid": "8f2839f25d086af736a60e9eeb907d3b93b6e0e5"
   },
   "outputs": [
    {
     "name": "stderr",
     "output_type": "stream",
     "text": [
      "Using TensorFlow backend.\n"
     ]
    }
   ],
   "source": [
    "# https://github.com/fchollet/deep-learning-with-python-notebooks/blob/master/8.1-text-generation-with-lstm.ipynb\n",
    "import keras\n",
    "import numpy as np"
   ]
  },
  {
   "cell_type": "code",
   "execution_count": 5,
   "metadata": {
    "_cell_guid": "79c7e3d0-c299-4dcb-8224-4455121ee9b0",
    "_uuid": "d629ff2d2480ee46fbb7e2d37f6b5fab8052498a"
   },
   "outputs": [
    {
     "name": "stdout",
     "output_type": "stream",
     "text": [
      "Corpus length: 4108664\n"
     ]
    }
   ],
   "source": [
    "import ssl\n",
    "\n",
    "# To avoid ssl: certificate_verify_failed error\n",
    "ssl._create_default_https_context = ssl._create_unverified_context\n",
    "\n",
    "# Get the script\n",
    "def get_text():\n",
    "    \n",
    "    office_script_file_url = \"https://raw.githubusercontent.com/Pradhyo/the-office-us-tv-show/master/the-office-all-episodes.txt\"\n",
    "    path = keras.utils.get_file('script.txt', origin=office_script_file_url)\n",
    "        \n",
    "    text = open(path).read().lower()\n",
    "    return text\n",
    "\n",
    "text = get_text()\n",
    "print('Corpus length:', len(text))"
   ]
  },
  {
   "cell_type": "code",
   "execution_count": 6,
   "metadata": {
    "_uuid": "6cca9ff2c1c9018c33a0020a94f27476ae204ca6"
   },
   "outputs": [
    {
     "name": "stdout",
     "output_type": "stream",
     "text": [
      "[(' ', 683865),\n",
      " ('e', 325287),\n",
      " ('t', 257302),\n",
      " ('a', 255726),\n",
      " ('o', 249519),\n",
      " ('i', 231860),\n",
      " ('n', 192916),\n",
      " ('h', 182121),\n",
      " ('s', 168200),\n",
      " ('r', 145558),\n",
      " ('l', 140074),\n",
      " ('d', 111329),\n",
      " ('y', 104883),\n",
      " ('m', 102473),\n",
      " ('.', 100099),\n",
      " ('u', 97290),\n",
      " ('g', 81523),\n",
      " ('c', 79151),\n",
      " ('w', 78946),\n",
      " ('\\n', 69462),\n",
      " (':', 60428),\n",
      " ('p', 53410),\n",
      " (',', 47960),\n",
      " ('k', 47018),\n",
      " ('b', 43158),\n",
      " ('f', 42647),\n",
      " (\"'\", 33029),\n",
      " ('v', 27859),\n",
      " ('?', 18735),\n",
      " ('j', 18556),\n",
      " ('[', 12031),\n",
      " (']', 12021),\n",
      " ('!', 9991),\n",
      " ('-', 6245),\n",
      " ('x', 3625),\n",
      " ('’', 3209),\n",
      " ('\"', 2435),\n",
      " ('z', 2005),\n",
      " ('q', 1331),\n",
      " ('0', 1038),\n",
      " ('1', 615),\n",
      " ('2', 424),\n",
      " ('…', 417),\n",
      " ('5', 360),\n",
      " ('”', 255),\n",
      " ('3', 251),\n",
      " ('4', 248),\n",
      " ('“', 246),\n",
      " ('9', 156),\n",
      " ('—', 149),\n",
      " (';', 145),\n",
      " ('$', 138),\n",
      " ('8', 137),\n",
      " ('7', 115),\n",
      " ('6', 109),\n",
      " ('/', 88),\n",
      " ('&', 85),\n",
      " ('‘', 69),\n",
      " ('#', 59),\n",
      " ('*', 59),\n",
      " ('%', 58),\n",
      " ('–', 55),\n",
      " (')', 45),\n",
      " ('(', 32),\n",
      " ('_', 6),\n",
      " ('é', 6),\n",
      " ('+', 4),\n",
      " ('ü', 4),\n",
      " ('@', 3),\n",
      " ('�', 3),\n",
      " ('ñ', 3),\n",
      " ('{', 2),\n",
      " ('}', 2),\n",
      " ('=', 1)]\n",
      "74\n"
     ]
    }
   ],
   "source": [
    "from collections import Counter\n",
    "from pprint import pprint\n",
    "char_counts = Counter()\n",
    "for c in text:\n",
    "    char_counts[c] += 1\n",
    "    \n",
    "pprint(char_counts.most_common())\n",
    "pprint(len(char_counts))"
   ]
  },
  {
   "cell_type": "code",
   "execution_count": 7,
   "metadata": {
    "_uuid": "e08e65fa058c0fa2c38323d0a37307a1498e1ed4"
   },
   "outputs": [
    {
     "name": "stdout",
     "output_type": "stream",
     "text": [
      "m: ['l right jim. your qu', 'ibrary?\\njim: oh, i t', 'it. so...\\nmichael: s', \" you've come to the \", 'me to the master for']\n",
      "i: ['ll right jim. your q', 'r quarterlies look v', 'how are things at th', 's at the library?\\nji', 'library?\\njim: oh, i ']\n",
      "c: [\"ld you. i couldn't c\", \" couldn't close it. \", '. so...\\nmichael: so ', \"so you've come to th\", 'for guidance? is thi']\n",
      "h: ['ery good. how are th', ' how are things at t', 'hings at the library', 'ry?\\njim: oh, i told ', ' so...\\nmichael: so y']\n",
      "a: ['m. your quarterlies ', 'good. how are things', 're things at the lib', 't the library?\\njim: ', 'so...\\nmichael: so yo']\n",
      "e: ['your quarterlies loo', ' quarterlies look ve', 'ies look very good. ', 'od. how are things a', 'ings at the library?']\n",
      "l: ['ur quarterlies look ', 'arterlies look very ', 'gs at the library?\\nj', ': oh, i told you. i ', \"you. i couldn't clos\"]\n",
      ":: ['brary?\\njim: oh, i to', \"..\\nmichael: so you'v\", 'opper?\\njim: actually', 'h.\\nmichael: all righ', '.\\n\\nmichael: [on the ']\n",
      " : ['right jim. your quar', ' jim. your quarterli', 'uarterlies look very', 'rlies look very good', ' look very good. how']\n",
      "r: ['t jim. your quarterl', '. your quarterlies l', 'our quarterlies look', 'es look very good. h', 'ood. how are things ']\n",
      "g: ['look very good. how ', 'w are things at the ', 'aster for guidance? ', \"u're saying, grassho\", 'e saying, grasshoppe']\n",
      "t: [' your quarterlies lo', '. how are things at ', 'e things at the libr', 'things at the librar', 'im: oh, i told you. ']\n",
      "j: [' library?\\njim: oh, i', 'sshopper?\\njim: actua', 'products. just wante', 'uh, yeah. just a fax', 'rumming]\\n\\njim: my jo']\n",
      ".: [' right jim. your qua', ' very good. how are ', 'i told you. i couldn', 't close it. so...\\nmi', 'ose it. so...\\nmichae']\n",
      "y: ['ight jim. your quart', 's look very good. ho', 'the library?\\njim: oh', 'h, i told you. i cou', \"chael: so you've com\"]\n",
      "o: ['ght jim. your quarte', 'rterlies look very g', 'terlies look very go', 'ook very good. how a', 'ok very good. how ar']\n",
      "u: ['ht jim. your quarter', 'im. your quarterlies', ' i told you. i could', \" you. i couldn't clo\", \"ael: so you've come \"]\n",
      "q: ['jim. your quarterlie', '-manger. [quick cut ', 'ut... uh, quantities', '\\nmichael: question. ', ', you big queen.\\nmic']\n",
      "s: ['quarterlies look ver', ' are things at the l', \"uldn't close it. so.\", 'close it. so...\\nmich', \"\\nmichael: so you've \"]\n",
      "k: ['erlies look very goo', \"es, i'd like to spea\", 'ke to speak to your ', 'ted to talk to you m', 'ger. [quick cut scen']\n",
      "v: ['lies look very good.', \"l: so you've come to\", 'thank you very much,', 'she had a very low v', ' very low voice. pro']\n",
      "d: ['k very good. how are', ' oh, i told you. i c', \"ou. i couldn't close\", 'er for guidance? is ', ' you called me in he']\n",
      "w: ['y good. how are thin', \"? is this what you'r\", 'll right. well, let ', 'let me show you how ', \"how you how it's don\"]\n",
      "n: ['ow are things at the', \"u. i couldn't close \", ' for guidance? is th', \"ou're saying, grassh\", 'alled me in here, bu']\n",
      "b: [' at the library?\\njim', ' in here, but yeah.\\n', 'voice. probably a sm', 'ice. probably a smok', \" uh, i've been at du\"]\n",
      "?: ['he library?\\njim: oh,', 'r guidance? is this ', 'rasshopper?\\njim: act', 'right, pam?\\npam: wel', '\\npam: what?\\nmichael:']\n",
      "\n",
      ": ['e library?\\njim: oh, ', ' it. so...\\nmichael: ', 'asshopper?\\njim: actu', ' but yeah.\\nmichael: ', \"it's done.\\n\\nmichael:\"]\n",
      ",: ['y?\\njim: oh, i told y', \"'re saying, grasshop\", ': actually, you call', 'me in here, but yeah', 'ight. well, let me s']\n",
      "': [\". i couldn't close i\", \"el: so you've come t\", \"s what you're saying\", \"you how it's done.\\n\\n\", \"ne] yes, i'd like to\"]\n",
      "f: ['he master for guidan', ' to your office mana', 'to your office manag', ' manager of dunder m', ' dunder mifflin pape']\n",
      "p: ['g, grasshopper?\\njim:', ', grasshopper?\\njim: ', ': [on the phone] yes', ' like to speak to yo', ' manager, please. ye']\n",
      "[: ['\\nmichael: [on the ph', 'a-manger. [quick cut', ' mistake. [hangs up]', 'er, so... [clears th', 'ears ago. [growls]\\np']\n",
      "]: [\" the phone] yes, i'd\", ' cut scene] all righ', ' [hangs up] that was', \"ars throat] so that'\", 'o. [growls]\\npam: wha']\n",
      "-: ['ou manager-a-manger.', ' manager-a-manger. [', '. pam! pam-pam! pam ', '... ringie-dingie-di', 'gie-dingie-ding!\\njan']\n",
      "1: ['fflin for 12 years, ', 't it for $1,200. fix', 'rofits by 17% or whe', 'it says, \"100% post-', ' us erase 100 years ']\n",
      "2: ['flin for 12 years, t', \"got a '78 280z. boug\", 'it for $1,200. fixed', ' up being 25% of my ', 'more like 200 years.']\n",
      "!: [', pam. pam! pam-pam!', 'm! pam-pam! pam bees', 'ichael: oh! pam, thi', 'per basket! look at ', 'ok at that! look at ']\n",
      "x: [' just a fax.\\nmichael', 'well, i faxed one ov', 'e get a fax this mor', 'at with faxes.\\njan: ', 'is fine. excellent.\\n']\n",
      "\": [' they go, \"god we\\'ve', 'hilarious.\" \"and you', 'larious.\" \"and you g', 'out of us.\" [shows t', 'and said, \"mr. scott']\n",
      "z: [' be downsizing.\\nmich', 'use downsizing is a ', 'out downsizing himse', 'not downsizing himse', 'out downsizing?\\n\\nmic']\n",
      "7: [\" i got a '78 280z. b\", 'ofits by 17% or when', 'ill lose $7,000 if y', ' for like 7 seconds.', '..now, $9.78, signs ']\n",
      "8: [\"i got a '78 280z. bo\", \"ot a '78 280z. bough\", \" amazing '80s party \", 'e walked 18 miles.\\nm', 'ftware, 128-bit encr']\n",
      "0: [\"t a '78 280z. bought\", 't for $1,200. fixed ', ' for $1,200. fixed i', 'e worth, 50 cents?\\nm', 'michael: 50 cents, y']\n",
      "$: ['ht it for $1,200. fi', \"there's a $1,200 ded\", 've you... $25.\\noscar', 'alkathon. $25.\\noscar', 'will lose $7,000 if ']\n",
      "5: ['se worth, 50 cents?\\n', '\\nmichael: 50 cents, ', ' notes at 50 cents a', 'up being 25% of my c', ' you... $25.\\noscar: ']\n",
      "%: ['fits by 17% or when ', 'says, \"100% post-con', 'p being 25% of my co', 've that 99% of the p', 'wight: 100%.\\npam: di']\n",
      "9: ['ieve that 99% of the', 'eve that 99% of the ', 'ogi, only 99 cents p', 'gi, only 99 cents pl', \"?\\ntoby: '89.\\nkaty: o\"]\n",
      ";: [\"on't laugh; please d\", \"urt mozart; you're g\", \"s terrible; no one's\", 'e his mind; he thoug', 'wait, wait; one thin']\n",
      "3: [\"at it's a 300ft drop\", ': it goes 300 feet i', \"at it's a 300ft drop\", ', it goes 300 feet i', '0 pounds, 3 inches. ']\n",
      "4: ['e turning 46, but, c', \" um, he's 41 years o\", 'can have 14. marjory', '\\nmichael: 42897. ok.', '? this is 400 bucks.']\n",
      "6: [' turning 46, but, co', ' pam. pam 6.0.\\n[pam ', 'left me a 60 acre wo', \"en you're 65. hey, i\", 'lose on 126 over the']\n",
      "): ['es phyllis)] um... y', 'iq (it guy): that ju', \"iq (it guy): what's \", \"iq (it guy): oh, it'\", 'iq (it guy): by keyw']\n",
      "&: ['ercrombie & fitch?\\nm', \"the most m&m's in th\", \" bowl of m&m's into \", 'y.\\n\\nkevin & oscar: o', \" pack of m&m's, his \"]\n",
      "#: ['is \"mambo #5.\" so...', \"michael's #2 guy for\", 'on worker #1: hey, y', 'on worker #2: ass, a', 'on worker #2: ...ass']\n",
      "/: [' an amused/appreciat', ' too much / in this ', 'mmmpt.\\npam/jim: [in ', 'ifty eyes / ryan - d', 'ed pupils / kelly - ']\n",
      "(: ['...\\nsadiq (it guy): ', '...\\nsadiq (it guy): ', 'er]\\nsadiq (it guy): ', 'ch?\\nsadiq (it guy): ', '\". [sadiq (it guy) t']\n",
      "*: ['queer as f***, so...', 'ueer as f***, so...\\n', 'eer as f***, so...\\nj', 'is is bull****!\\n\\nmic', 's is bull****!\\n\\nmich']\n",
      "+: [\"' or an 'a+' but i c\", \"re's an 'a++'.\\n\\nkare\", \"e's an 'a++'.\\n\\nkaren\", ' a solid b+. althoug']\n",
      "{: [' kidding. {kevin tak', 'porpoise. {erin argu']\n",
      "@: ['en] packer@dundermif', ' packaging@dundermif', ' mac.com, @ their we']\n",
      "�: ['ang tao, j�rg ro�kop', 'o, j�rg ro�kopf, and', ': de class�.\\nmichael']\n",
      "_: ['ing out \"s_an_ey is ', ' out \"s_an_ey is che', 'ey is chea_in_ _n _e', 'is chea_in_ _n _eri]', ' chea_in_ _n _eri] t']\n",
      "}: ['bumps toby}\\ndwight: ', 'one in cab} after dw']\n",
      "=: ['o smart. e=mc... squ']\n",
      "’: ['h, for god’s sake. [', 'aces. that’s it. som', 'or you don’t.  and i', ' and i don’t.  but i', ' and i don’t really ']\n",
      "…: ['california… for the ', 'd he chose…\\n\\nandy: [', 'h hands] i… it’s unb', '.\\ndwight: … 2, 3! [p', 'f the list… attack!\\n']\n",
      "“: ['told him, “i need a ', 'en i say, “and shove', 'from jim. “this is g', 'meredith: “suck it l', 'was like, “who’s tha']\n",
      "”: [' enforcer.” smart, r', 'your butt.” it’s stu', 'ain later.”\\npam: [ev', 'it losers.”\\n\\nryan: o', ' like her.” now i’m ']\n",
      "‘: ['k, it’s a ‘little pr', 'elly] and ‘big pregs', 'ff table] ‘specially', 'who in an ‘alive’ si', 't’s-\\npam: ‘scuse me?']\n"
     ]
    },
    {
     "name": "stdout",
     "output_type": "stream",
     "text": [
      "ñ: ['ame is. señor loaden', 'ughing] señor loaden', ' called señor loaden']\n",
      "–: ['reminders – no burpi', 'you asked – connecti', 'chapter 2 – announci', 'chapter 4 – one of t', 'chapter 9 – the tabl']\n",
      "ü: ['rine and güiro]\\ndarr', '[removes güiro and b', '. [plays güiro and s', ' playing güiro] fish']\n",
      "é: ['elve clichés every t', ' her fiancé ravi was', 's ex-fiancé’s weddin', 's ex-fiancé.\\npam: [e', 'y ex-fiancé.\\npam: [s']\n",
      "—: ['0 children—\\npam: kay', 'rk and, um—\\npete: pe', 'k: is this—is this l', 't a glance—\\ndwight: ', 'ait, sales—what sale']\n"
     ]
    }
   ],
   "source": [
    "# Get some sample strings for each character to explore the data\n",
    "def sample_strings(char, string_length=20, num_samples=5):\n",
    "    sample = 0\n",
    "    samples = []\n",
    "    for i, c in enumerate(text):\n",
    "        if i < string_length:\n",
    "            continue\n",
    "        if char == c:\n",
    "            samples.append(text[int(i-string_length/2):int(i+string_length/2)])\n",
    "            sample += 1\n",
    "            if sample == num_samples:\n",
    "                break\n",
    "    return samples\n",
    "\n",
    "for c in char_counts:\n",
    "    print(f\"{c}: {sample_strings(c)}\")"
   ]
  },
  {
   "cell_type": "code",
   "execution_count": 8,
   "metadata": {
    "_uuid": "b4333856dab3fec3329891b9ab2706a4462c2905"
   },
   "outputs": [
    {
     "name": "stdout",
     "output_type": "stream",
     "text": [
      ":: [' at the library?\\njim: oh, i told you. i ', \"se it. so...\\nmichael: so you've come to \", 'ng, grasshopper?\\njim: actually, you call', 'e, but yeah.\\nmichael: all right. well, l', \" it's done.\\n\\nmichael: [on the phone] yes\"]\n",
      " : ['im. your quarterlies look very good. how', 'our quarterlies look very good. how are ', 'uarterlies look very good. how are thing', 'lies look very good. how are things at t', ' look very good. how are things at the l']\n",
      ".: ['rlies look very good. how are things at ', \"\\njim: oh, i told you. i couldn't close i\", \" i couldn't close it. so...\\nmichael: so \", \"ouldn't close it. so...\\nmichael: so you'\", \"uldn't close it. so...\\nmichael: so you'v\"]\n",
      "?: ['hings at the library?\\njim: oh, i told yo', \" master for guidance? is this what you'r\", ' saying, grasshopper?\\njim: actually, you', \" forever. right, pam?\\npam: well. i don't\", '. [growls]\\npam: what?\\nmichael: any messa']\n",
      "\n",
      ": ['ings at the library?\\njim: oh, i told you', \"dn't close it. so...\\nmichael: so you've \", 'saying, grasshopper?\\njim: actually, you ', 'e in here, but yeah.\\nmichael: all right.', \"w you how it's done.\\n\\nmichael: [on the p\"]\n",
      ",: ['the library?\\njim: oh, i told you. i coul', \"s what you're saying, grasshopper?\\njim: \", 'opper?\\njim: actually, you called me in h', 'ou called me in here, but yeah.\\nmichael:', 'ael: all right. well, let me show you ho']\n",
      "': [\"i told you. i couldn't close it. so...\\nm\", \"o...\\nmichael: so you've come to the mast\", \"ce? is this what you're saying, grasshop\", \"t me show you how it's done.\\n\\nmichael: [\", \"on the phone] yes, i'd like to speak to \"]\n",
      "[: [\"t's done.\\n\\nmichael: [on the phone] yes, \", 'u manager-a-manger. [quick cut scene] al', ' sorry. my mistake. [hangs up] that was ', 'bly a smoker, so... [clears throat] so t', 'ouple of years ago. [growls]\\npam: what?\\n']\n",
      "]: [\"chael: [on the phone] yes, i'd like to s\", 'er. [quick cut scene] all right. done de', 'y mistake. [hangs up] that was a woman i', \"so... [clears throat] so that's the way \", 'f years ago. [growls]\\npam: what?\\nmichael']\n",
      "-: [' talk to you manager-a-manger. [quick cu', 'alk to you manager-a-manger. [quick cut ', 'onist, pam. pam! pam-pam! pam beesly. pa', 'd of going... ringie-dingie-ding!\\njan: i', \"ing... ringie-dingie-ding!\\njan: i've spo\"]\n",
      "!: ['ceptionist, pam. pam! pam-pam! pam beesl', 't, pam. pam! pam-pam! pam beesly. pam ha', 't a fax.\\nmichael: oh! pam, this is from ', 'he wastepaper basket! look at that! look', 'basket! look at that! look at that face.']\n",
      "\": ['best boss. they go, \"god we\\'ve never wor', 'e. you\\'re hilarious.\" \"and you get the b', ' you\\'re hilarious.\" \"and you get the bes', ' the best out of us.\" [shows the camera ', 'me to me, and said, \"mr. scott, would yo']\n",
      "$: ['280z. bought it for $1,200. fixed it up.', \"o vision, there's a $1,200 deductible.\\n\\n\", \"oing to give you... $25.\\noscar: that's..\", \"hew's... walkathon. $25.\\noscar: per mile\", 'arol: you will lose $7,000 if you walk a']\n",
      "%: ['reased profits by 17% or when i cut expe', 'e back it says, \"100% post-consumer cont', 'all ends up being 25% of my commission f', '. we believe that 99% of the problems in', 'dential?\\ndwight: 100%.\\npam: did you just']\n",
      ";: [\", sorry. don't laugh; please don't laugh\", \" try and hurt mozart; you're going to ge\", \"r. devon is terrible; no one's gonna mis\", 'ould change his mind; he thought that i ', 'pid.\\njim: wait, wait; one thing. uh, by ']\n",
      "): ['el: [ignores phyllis)] um... yeah. who e', 'ted...\\nsadiq (it guy): that just means y', \" oh...\\nsadiq (it guy): what's your passw\", \"puter]\\nsadiq (it guy): oh, it's 1-2-3.\\nm\", 'earch?\\nsadiq (it guy): by keyword phrase']\n",
      "&: ['g.\\npam: abercrombie & fitch?\\nmichael: uh', \"o can put the most m&m's in their mouth?\", \": [empties bowl of m&m's into his mouth]\", 'led anybody.\\n\\nkevin & oscar: one, two, t', \".. a party pack of m&m's, his favorite c\"]\n",
      "#: ['hone ring is \"mambo #5.\" so...\\npam: [lau', \"have been michael's #2 guy for about 5 y\", 'efrigeration worker #1: hey, you wanna s', 'efrigeration worker #2: ass, ass, ass...', 'efrigeration worker #2: ...ass, ass, ass']\n",
      "/: [' gives her an amused/appreciative grin]\\n', \"you've had too much / in this life.\\njim:\", 'stanley: hmmmpt.\\npam/jim: [in unison] i ', '\"creed -shifty eyes / ryan - dilated pup', 'an - dilated pupils / kelly - hyperactiv']\n",
      "(: ['-protected...\\nsadiq (it guy): that just ', \"ichael: oh...\\nsadiq (it guy): what's you\", \" on computer]\\nsadiq (it guy): oh, it's 1\", 'o you search?\\nsadiq (it guy): by keyword', 'and \"funny\". [sadiq (it guy) types; resu']\n",
      "*: [' i watch, queer as f***, so...\\njan: that', \"i watch, queer as f***, so...\\njan: that'\", \" watch, queer as f***, so...\\njan: that's\", 'ichael: this is bull****!\\n\\nmichael: me w', 'chael: this is bull****!\\n\\nmichael: me wa']\n",
      "+: [\"r be an 'a' or an 'a+' but i completely \", \"t that there's an 'a++'.\\n\\nkaren: [record\", \" that there's an 'a++'.\\n\\nkaren: [recordi\", 'at lecture a solid b+. although, for the']\n",
      "{: [' got to be kidding. {kevin takes bite of', 'ooth as a porpoise. {erin argues]\\npete: ']\n",
      "@: ['puter screen] packer@dundermifflin.com. ', 'fflin.com. packaging@dundermifflin.com. ', 's are just mac.com, @ their website, wha']\n",
      "�: ['waldner, wang tao, j�rg ro�kopf, and of ', 'r, wang tao, j�rg ro�kopf, and of course', 't all.\\njim: de class�.\\nmichael: french. ']\n",
      "_: ['ame, spelling out \"s_an_ey is chea_in_ _', ', spelling out \"s_an_ey is chea_in_ _n _', 'out \"s_an_ey is chea_in_ _n _eri] that a', ' \"s_an_ey is chea_in_ _n _eri] that and ', 's_an_ey is chea_in_ _n _eri] that and th']\n",
      "}: ['er. [fist bumps toby}\\ndwight: so long da', '\\ntoby: [alone in cab} after dwight fired']\n",
      "=: [\"ic? 'i'm so smart. e=mc... squared. i dr\"]\n",
      "’: ['\\n\\noscar: oh, for god’s sake. [notices er', 'n weird places. that’s it. sometimes you', 'er get it or you don’t.  and i don’t.  b', 'ou don’t.  and i don’t.  but i am so exc', 'r own job. and i don’t really know how s']\n",
      "…: ['on robert california… for the manager po', 'fill.   and he chose…\\n\\nandy: [drumroll w', 'umroll with hands] i… it’s unbelievable.', '. yeah. oh.\\ndwight: … 2, 3! [pulls phyll', 'eft side of the list… attack!\\njim: wait,']\n",
      "“: ['lk. and i told him, “i need a really str', 'ion and then i say, “and shove it up you', ' oh, text from jim. “this is getting ver', 'om kevin.\\nmeredith: “suck it losers.”\\n\\nr', 'ough here was like, “who’s that receptio']\n",
      "”: ['u to be my enforcer.” smart, right?\\nkell', 'ove it up your butt.” it’s stupid, but i', ' will explain later.”\\npam: [everyone’s p', 'th: “suck it losers.”\\n\\nryan: okay, not t', 'tionist? i like her.” now i’m just a fat']\n",
      "‘: ['ngela: look, it’s a ‘little pregs’ [poin', 's to her belly] and ‘big pregs’ [points ', 'cks toby off table] ‘specially with me a', 'would eat who in an ‘alive’ situation. n', '’t think it’s-\\npam: ‘scuse me?\\ndwight: s']\n",
      "–: ['er simple reminders – no burping, no slu', \" i'm glad you asked – connecticut casual\", 'rd!\\n\\njim: chapter 2 – announcing guests ', \"lf.\\n\\njim: chapter 4 – one of the host's \", 'er.\\n\\njim: chapter 9 – the tableau vivant']\n",
      "—: ['rade of 500 children—\\npam: kay, well, yo', '. it’s clark and, um—\\npete: pete!\\nandy: ', ' man?\\nclark: is this—is this like code f', 'ust give it a glance—\\ndwight: ok\\nclark: ', '\\ndwight: wait, sales—what sales meeting?']\n"
     ]
    }
   ],
   "source": [
    "# See longer strings for non alphanumeric characters\n",
    "for c in char_counts:\n",
    "    if not c.isalnum():\n",
    "        print(f\"{c}: {sample_strings(c, 40)}\")"
   ]
  },
  {
   "cell_type": "markdown",
   "metadata": {
    "_uuid": "7688a90be78aa33bc17f89345a4198b793fea7d2"
   },
   "source": [
    "Looking at the above text, some of the characters like `\\n`appear in between words but some of them like `'` appear as part of the word. \n",
    "I am going to leave the ones within words as is but consider the others as separate words so the model doesn't consider *jim* in`\\njim` different from  just`jim`. I am also going to consider all numbers the same."
   ]
  },
  {
   "cell_type": "code",
   "execution_count": 9,
   "metadata": {
    "_uuid": "4a76b4c3763cd551efebe9c322cff5ae5a8ce1a5"
   },
   "outputs": [
    {
     "name": "stdout",
     "output_type": "stream",
     "text": [
      ": .?\n",
      ",'[]-!\"$%;)&#/(*+{@�_}=’…“”‘–—\n"
     ]
    }
   ],
   "source": [
    "# consider these as words\n",
    "consider_words = ''.join(c for c in char_counts if not c.isalnum())\n",
    "print(consider_words)"
   ]
  },
  {
   "cell_type": "markdown",
   "metadata": {
    "_uuid": "6eb6957bf5a14c5fadd43b7f1d7838c26ce7de58"
   },
   "source": [
    "Looking at the symbols more closely, it doesn't look like there are a lot of symbols that appear within the words so I am just going to consider all of them separate words."
   ]
  },
  {
   "cell_type": "code",
   "execution_count": 10,
   "metadata": {
    "_uuid": "b5bc6871db2f5b3f7276df5106f3fa1eabcad53e"
   },
   "outputs": [
    {
     "name": "stdout",
     "output_type": "stream",
     "text": [
      ": .?\n",
      ",'[]-!\"$%;)&#/(*+{@�_}=’…“”‘–—0\n"
     ]
    }
   ],
   "source": [
    "numbers = '0123456789'\n",
    "def replace_numbers(text):\n",
    "    for n in numbers:\n",
    "        text = text.replace(n, \"0\")\n",
    "    return text\n",
    "\n",
    "text = replace_numbers(text)\n",
    "consider_words += '0' # consider 0 also a word\n",
    "print(consider_words)"
   ]
  },
  {
   "cell_type": "code",
   "execution_count": 12,
   "metadata": {
    "_uuid": "ee1e24211bc0a4ea2a347440c7bbbfe71847cf85"
   },
   "outputs": [
    {
     "name": "stdout",
     "output_type": "stream",
     "text": [
      "['michael', ':', ' ', 'all', ' ', 'right', ' ', 'jim', '.', ' ', 'your', ' ', 'quarterlies', ' ', 'look', ' ', 'very', ' ', 'good', '.', ' ', 'how', ' ', 'are', ' ', 'things', ' ', 'at', ' ', 'the', ' ', 'library', '?', ' ', 'jim', ':', ' ', 'oh', ',', ' ', 'i', ' ', 'told', ' ', 'you', '.', ' ', 'i', ' ', 'couldn']\n"
     ]
    }
   ],
   "source": [
    "def split_into_words(text, consider_words):\n",
    "    # Split text into words - characters above are also considered words\n",
    "    text = text.replace(' ', ' | ') # pick a char not in the above list\n",
    "    text = text.replace('\\n', ' | ') # pick a char not in the above list\n",
    "\n",
    "    for char in consider_words:\n",
    "        text = text.replace(char, f\" {char} \") # to split on spaces to get char\n",
    "\n",
    "    words_with_pipe = text.split()\n",
    "    words = [word if word != '|' else ' ' for word in words_with_pipe]\n",
    "    return words\n",
    "\n",
    "words = split_into_words(text, consider_words)\n",
    "print(words[:50])"
   ]
  },
  {
   "cell_type": "code",
   "execution_count": 16,
   "metadata": {
    "_uuid": "e685bba37980e9418b4ed025863a5038b9996dc6"
   },
   "outputs": [],
   "source": [
    "# Length of extracted word sequences\n",
    "maxlen = 20\n",
    "\n",
    "# We sample a new sequence every `step` words\n",
    "step = 3\n",
    "\n",
    "def setup_inputs(words, maxlen, step):\n",
    "    try:\n",
    "        # This holds our extracted sequences\n",
    "        sentences = []\n",
    "\n",
    "        # This holds the targets (the follow-up characters)\n",
    "        next_words = []\n",
    "\n",
    "        for i in range(0, len(words) - maxlen, step):\n",
    "            sentences.append(words[i: i + maxlen])\n",
    "            next_words.append(words[i + maxlen])\n",
    "        print('Number of sequences:', len(sentences))\n",
    "\n",
    "        # List of unique characters in the corpus\n",
    "        unique_words = sorted(list(set(words)))\n",
    "        print('Unique words:', len(unique_words))\n",
    "        # Dictionary mapping unique characters to their index in `unique_words`\n",
    "        word_indices = dict((word, unique_words.index(word)) for word in unique_words)\n",
    "\n",
    "        # Next, one-hot encode the characters into binary arrays.\n",
    "        print('Vectorization...')\n",
    "        x = np.zeros((len(sentences), maxlen, len(unique_words)), dtype=np.bool)\n",
    "        y = np.zeros((len(sentences), len(unique_words)), dtype=np.bool)\n",
    "        for i, sentence in enumerate(sentences):\n",
    "            for t, word in enumerate(sentence):\n",
    "                x[i, t, word_indices[word]] = 1\n",
    "            y[i, word_indices[next_words[i]]] = 1\n",
    "        return x, y, unique_words, word_indices\n",
    "    except MemoryError as e:\n",
    "        print(e)\n",
    "        pass\n",
    "\n",
    "# Commenting out to avoid MemoryError\n",
    "# Tried catching it but didn't seem to work\n",
    "# x, y, unique_words, word_indices = setup_inputs(words, maxlen, step)\n"
   ]
  },
  {
   "cell_type": "markdown",
   "metadata": {
    "_uuid": "46321bf7d826881064b3ff4e801b6181ce8469c3"
   },
   "source": [
    "### Reducing data\n",
    "\n",
    "Since the above was throwing a MemoryError, I tried reducing the data by considering lines by just one actor. Using Michael's lines caused the same issue again so I tried using lines for Phyllis."
   ]
  },
  {
   "cell_type": "code",
   "execution_count": 17,
   "metadata": {
    "_uuid": "bdd5e5ca1d8320501e456e32c138d4d62f0e56d0"
   },
   "outputs": [
    {
     "name": "stdout",
     "output_type": "stream",
     "text": [
      "phyllis: so what does downsizing actually mean?\n",
      "phyllis: what?\n",
      "phyllis: well, uh, for decorations, maybe we could... it's stupid, forget it.\n",
      "phyllis: i was just going to say, maybe we could have strea\n"
     ]
    }
   ],
   "source": [
    "text = get_text()\n",
    "\n",
    "selected_actor = \"phyllis\"\n",
    "\n",
    "def get_selected_lines(text, selected_actor):\n",
    "    lines = text.split(\"\\n\")\n",
    "    return \"\\n\".join(line for line in lines if line.startswith(f\"{selected_actor}:\"))\n",
    "\n",
    "text = get_selected_lines(text, selected_actor)\n",
    "print(text[:200])"
   ]
  },
  {
   "cell_type": "code",
   "execution_count": 18,
   "metadata": {
    "_uuid": "fa029ca2ba6a0f3290fc36d47e7ab1e1a6651eca"
   },
   "outputs": [
    {
     "name": "stdout",
     "output_type": "stream",
     "text": [
      "Number of sequences: 8328\n",
      "Unique words: 1813\n",
      "Vectorization...\n"
     ]
    }
   ],
   "source": [
    "text = replace_numbers(text)\n",
    "words = split_into_words(text, consider_words)\n",
    "x, y, unique_words, word_indices = setup_inputs(words, maxlen, step)"
   ]
  },
  {
   "cell_type": "code",
   "execution_count": null,
   "metadata": {
    "_uuid": "f8b2beb0c6c202cbe948122d395c70118e6702ed"
   },
   "outputs": [],
   "source": [
    "from keras import layers\n",
    "\n",
    "def build_model(maxlen, num_unique_words):\n",
    "    model = keras.models.Sequential()\n",
    "    model.add(layers.LSTM(128, input_shape=(maxlen, num_unique_words)))\n",
    "    model.add(layers.Dense(num_unique_words, activation='softmax'))\n",
    "    optimizer = keras.optimizers.RMSprop(lr=0.01)\n",
    "    model.compile(loss='categorical_crossentropy', optimizer=optimizer)    \n",
    "    return model\n",
    "\n",
    "model = build_model(maxlen, len(unique_words))"
   ]
  },
  {
   "cell_type": "code",
   "execution_count": null,
   "metadata": {
    "_uuid": "d7d6c0d554e9e28a5027051cc78140e891c32416"
   },
   "outputs": [],
   "source": [
    "def sample(preds, temperature=1.0):\n",
    "    preds = np.asarray(preds).astype('float64')\n",
    "    preds = np.log(preds) / temperature\n",
    "    exp_preds = np.exp(preds)\n",
    "    preds = exp_preds / np.sum(exp_preds)\n",
    "    probas = np.random.multinomial(1, preds, 1)\n",
    "    return np.argmax(probas)"
   ]
  },
  {
   "cell_type": "code",
   "execution_count": null,
   "metadata": {
    "_uuid": "3f0e6abf7a2cc2b555c9c6663a1135a9a4bf33f2"
   },
   "outputs": [],
   "source": [
    "import random\n",
    "import sys\n",
    "\n",
    "def train_model(text, words, unique_words, word_indices, max_epoch, script_file, model_file=\"\"):\n",
    "    with open(script_file, \"wt\") as f:\n",
    "        f.write(\"\") # Just to create/overwrite the file\n",
    "\n",
    "    for epoch in range(1, max_epoch):\n",
    "        with open(script_file, \"at\") as f:\n",
    "            f.write(f'\\n\\nepoch {epoch}\\n\\n')\n",
    "        # Fit the model for 1 epoch on the available training data\n",
    "        model.fit(x, y,\n",
    "                  batch_size=128,\n",
    "                  epochs=1)\n",
    "\n",
    "        # Select a text seed at random\n",
    "        start_index = random.randint(0, len(words) - maxlen - 1)\n",
    "        generated_text = words[start_index: start_index + maxlen]\n",
    "\n",
    "        with open(script_file, \"at\") as f:\n",
    "            f.write('--- Generating with seed: \"' + ''.join(generated_text) + '\"\\n')\n",
    "\n",
    "        with open(script_file, \"at\") as f:        \n",
    "            for temperature in [0.2, 0.5, 1.0, 1.2]:\n",
    "                f.write('\\n--- temperature: ' + str(temperature) + \"\\n\")\n",
    "                f.write(''.join(generated_text))\n",
    "\n",
    "                for i in range(200):\n",
    "                    sampled = np.zeros((1, maxlen, len(unique_words)))\n",
    "                    for t, word in enumerate(generated_text):\n",
    "                        sampled[0, t, word_indices[word]] = 1.\n",
    "\n",
    "                    preds = model.predict(sampled, verbose=0)[0]\n",
    "                    next_index = sample(preds, temperature)\n",
    "                    next_word = unique_words[next_index]\n",
    "\n",
    "                    generated_text.append(next_word)\n",
    "                    generated_text = generated_text[1:]\n",
    "\n",
    "                    f.write(next_word)\n",
    "        \n",
    "        if model_file:\n",
    "            model.save(model_file)\n",
    "    \n",
    "train_model(text, words, unique_words, word_indices, 100, \"phyllis_script.txt\")"
   ]
  },
  {
   "cell_type": "markdown",
   "metadata": {
    "_uuid": "6b7e8759ee010270ccae780cbe8729ee00435d2e"
   },
   "source": [
    "#### Using only the most common words\n",
    "\n",
    "Since I wanted to learn lines from all actors, I reduced the data by taking the 2000 most common words and considering the sentences only made solely of these words."
   ]
  },
  {
   "cell_type": "code",
   "execution_count": 22,
   "metadata": {
    "_uuid": "e654fc5ddc22cdf00c087fce4046b7f5f9bc2cbf"
   },
   "outputs": [
    {
     "name": "stdout",
     "output_type": "stream",
     "text": [
      "20795\n",
      "[(' ', 753327), ('.', 100099), (':', 60428), (',', 47960), (\"'\", 33029), ('i', 29843), ('you', 24675), ('?', 18735), ('the', 17982), ('to', 16773), ('a', 15401), ('michael', 15184), ('s', 14738), ('it', 13938), ('[', 12031), (']', 12021), ('and', 11393), ('that', 11344), ('!', 9991), ('dwight', 9905), ('jim', 8971), ('is', 8502), ('t', 8013), ('of', 7616), ('pam', 7208), ('in', 6985), ('what', 6608), ('-', 6245), ('no', 6047), ('we', 6032), ('this', 5906), ('on', 5283), ('andy', 5087), ('my', 5041), ('me', 5035), ('m', 4934), ('have', 4886), ('just', 4786), ('know', 4453), ('do', 4432), ('so', 4427), ('for', 4387), ('oh', 4340), ('not', 4332), ('don', 4071), ('are', 3965), ('re', 3696), ('be', 3612), ('was', 3608), ('he', 3554), ('your', 3490), ('can', 3484), ('0', 3453), ('with', 3433), ('like', 3381), ('all', 3309), ('yeah', 3237), ('’', 3209), ('okay', 2981), ('up', 2911), ('but', 2847), ('here', 2749), ('out', 2722), ('right', 2710), ('at', 2659), ('get', 2623), ('about', 2544), ('there', 2527), ('well', 2522), ('\"', 2435), ('hey', 2431), ('go', 2418), ('kevin', 2367), ('angela', 2302), ('think', 2283), ('good', 2248), ('one', 2194), ('they', 2167), ('if', 2064), ('really', 2039), ('ryan', 2035), ('oscar', 2030), ('how', 2028), ('going', 1999), ('erin', 1969), ('she', 1903), ('want', 1862), ('yes', 1733), ('would', 1722), ('her', 1682), ('did', 1674), ('darryl', 1653), ('uh', 1627), ('ll', 1620), ('his', 1602), ('let', 1581), ('now', 1572), ('phyllis', 1569), ('gonna', 1561), ('who', 1534), ('ok', 1529), ('from', 1517), ('an', 1502), ('come', 1477), ('got', 1453), ('back', 1449), ('as', 1448), ('him', 1436), ('will', 1420), ('jan', 1403), ('am', 1399), ('toby', 1384), ('why', 1355), ('kelly', 1355), ('see', 1323), ('or', 1323), ('time', 1317), ('stanley', 1253), ('because', 1237), ('some', 1237), ('say', 1209), ('when', 1168), ('could', 1158), ('look', 1144), ('ve', 1142), ('need', 1137), ('then', 1133), ('great', 1099), ('people', 1076), ('um', 1066), ('thank', 1062), ('man', 1048), ('very', 1046), ('office', 1038), ('take', 1034), ('guys', 1029), ('should', 1006), ('little', 998), ('meredith', 988), ('been', 986), ('make', 974), ('down', 964), ('over', 953), ('had', 938), ('phone', 937), ('mean', 932), ('sorry', 926), ('our', 922), ('has', 920), ('tell', 917), ('way', 904), ('something', 902), ('god', 897), ('them', 895), ('us', 889), ('into', 873), ('were', 862), ('where', 860), ('didn', 853), ('day', 853), ('more', 852), ('thing', 850), ('holly', 844), ('work', 839), ('off', 837), ('love', 826), ('by', 821), ('guy', 796), ('d', 795), ('two', 783), ('everyone', 766), ('please', 759), ('doing', 757), ('too', 749), ('david', 734), ('said', 687), ('much', 686), ('call', 685), ('maybe', 675), ('new', 667), ('never', 665), ('creed', 663), ('lot', 655), ('nellie', 653), ('gabe', 647), ('give', 646), ('sure', 640), ('robert', 632), ('talk', 626), ('wait', 625), ('stop', 620), ('alright', 617), ('even', 617), ('any', 616), ('nice', 611), ('actually', 610), ('these', 582), ('put', 580), ('thought', 576), ('today', 564)]\n"
     ]
    }
   ],
   "source": [
    "text = get_text()\n",
    "text = replace_numbers(text)\n",
    "words = split_into_words(text, consider_words)\n",
    "words_counter = Counter(words)\n",
    "print(len(words_counter))\n",
    "\n",
    "# Display just 200 on the blog post\n",
    "# 2000th most common word occurred 25 times\n",
    "print(words_counter.most_common(200))"
   ]
  },
  {
   "cell_type": "code",
   "execution_count": 24,
   "metadata": {
    "_uuid": "e2ef0fe6563445ec8b88f15cde154b9079e5ebd9"
   },
   "outputs": [
    {
     "name": "stdout",
     "output_type": "stream",
     "text": [
      "Total number of top words:  2000\n",
      "Total number of selected lines:  40366\n",
      "[\"jim: oh, i told you. i couldn't close it. so...\", 'jim: actually, you called me in here, but yeah.', \"michael: all right. well, let me show you how it's done.\", '', '', \"pam: well. i don't know.\", 'pam: what?', 'michael: any messages?', 'pam: uh, yeah. just a fax.', \"pam: you haven't told me.\", '', '', '', '', 'jim: nothing.', 'michael: ok. all right. see you later.', 'jim: all right. take care.', 'michael: back to work.', '', 'jan: [on her cell phone] just before lunch. that would be great.', '', '', \"jan: what? i'm sorry?\", \"michael: really? i didn't... [looks at pam] did we get a fax this morning?\", 'pam: uh, yeah, the one...', 'jan: do you want to look at mine?', 'michael: yeah, yeah. lovely. thank you.', 'michael: ok...', 'michael: no, no, no, no, this is good. this is good. this is fine. excellent.', 'michael: ok. no problem.', '', 'jan: go ahead.', \"michael: oh, that's not appropriate.\", \"michael: uh, i don't know what you mean.\", '', 'phyllis: so what does downsizing actually mean?', 'stanley: well...', '', '', \"angela: i bet it's gonna be me. probably gonna be me.\", \"kevin: yeah, it'll be you.\", '', 'pam: i have an important question for you.', 'jim: yes?', 'jim: yeah, stop. that is ridiculous.', '', '', 'michael: hey.', 'ryan: hey.', 'pam: this is mr. scott.', 'ryan: yup.', '', 'pam: dunder mifflin. this is pam.', '', 'dwight: what?', 'jim: what are you doing?', \"jim: it's not on your desk.\", \"dwight: you can't do that.\", 'jim: why not?', 'dwight: downsizing?', '', '', 'pam: you just still have these messages from yesterday.', 'pam: what?', \"pam: don't we all?\", \"michael: i'm sorry?\", 'pam: nothing.', '', '', '', \"dwight: i'm assistant regional manager. i should know first.\", 'michael: assistant to the regional manager.', \"michael: i'm about to tell everybody. i'm just about to tell everybody.\", \"oscar: can't you just tell us.\", \"dwight: please, ok? do you want me to tell 'em?\", \"michael: you don't know what it is. [laughs]\", 'dwight: go ahead.', '', '', 'michael: not gonna happen.', 'stanley: it could be out of your hands michael.', \"michael: it won't be out of my hands stanley, ok. i promise you that.\", 'stanley: can you promise that?', 'michael: no.', 'phyllis: what?', \"stanley: it's just that we need to know.\", 'michael: i know. hold on a second. i think pam wanted to say something. pam, you had a look that you wanted to ask a question just then.', 'man: are you sure about that?', 'dwight: pam, information is power.', \"stanley: you can't say for sure whether it'll be us or them, can you?\", '', '', '', 'michael: watch out for this guy. dwight schrute in the building. this is ryan, the new temp.', \"ryan: what's up? nice to meet you.\", 'dwight: dwight schrute, assistant regional manager.', '', 'dwight: damn it! jim!', 'pam: [laughing]', \"dwight: that's real professional thanks. that's the third time and it wasn't funny the first two times either jim.\"]\n"
     ]
    }
   ],
   "source": [
    "top_words = []\n",
    "for word, count in words_counter.most_common(2000):\n",
    "        top_words.append(word)\n",
    "\n",
    "print(\"Total number of top words: \", len(top_words))\n",
    "\n",
    "def get_lines_with_words(top_words):\n",
    "    selected_lines = []\n",
    "    text = get_text()\n",
    "    lines = text.split(\"\\n\")\n",
    "    for line in lines:\n",
    "        line = replace_numbers(line)\n",
    "        words_in_line = split_into_words(line, consider_words)\n",
    "        excluded_words = 0\n",
    "        for word_in_line in words_in_line:\n",
    "            if word_in_line not in top_words:\n",
    "                excluded_words += 1\n",
    "                break\n",
    "        if not excluded_words:\n",
    "            selected_lines.append(line)\n",
    "    return selected_lines\n",
    "                \n",
    "                \n",
    "selected_lines = get_lines_with_words(top_words)\n",
    "print(\"Total number of selected lines: \", len(selected_lines))\n",
    "print(selected_lines[:100])"
   ]
  },
  {
   "cell_type": "code",
   "execution_count": 25,
   "metadata": {
    "_uuid": "7eeba715907f419ec26128e791a48d7f320704ab"
   },
   "outputs": [],
   "source": [
    "selected_text = \"\\n\".join(selected_lines)\n",
    "\n",
    "selected_text = replace_numbers(selected_text)\n",
    "selected_words = split_into_words(selected_text, consider_words)"
   ]
  },
  {
   "cell_type": "code",
   "execution_count": 26,
   "metadata": {
    "_uuid": "d06b774ca35619e755a177c99097934d971d8850"
   },
   "outputs": [
    {
     "name": "stdout",
     "output_type": "stream",
     "text": [
      "Number of sequences: 189933\n",
      "Unique words: 1992\n",
      "Vectorization...\n"
     ]
    }
   ],
   "source": [
    "x, y, unique_words, word_indices = setup_inputs(selected_words, maxlen, step)"
   ]
  },
  {
   "cell_type": "code",
   "execution_count": null,
   "metadata": {
    "_uuid": "87dbeb4e362f4b2fbda0a81e13398550c53bd8cd"
   },
   "outputs": [],
   "source": [
    "model = build_model(maxlen, len(unique_words))\n",
    "train_model(selected_text, selected_words, unique_words, word_indices, 100, \"generated_script.txt\", \"top_lines.h5\")        "
   ]
  },
  {
   "cell_type": "markdown",
   "metadata": {
    "_uuid": "7198bfef49cf1f46f2dc585aff0b18fe837619d9"
   },
   "source": [
    "## Reflections\n",
    "\n",
    "- The [output for lines from Phyllis](https://github.com/Pradhyo/machine-learning-practice-notebooks/blob/master/text-generation/phyllis_script.txt) is just Phyllis talking to herself all the time.\n",
    "\n",
    "- This [output from the most common words](https://github.com/Pradhyo/machine-learning-practice-notebooks/blob/master/text-generation/generated_script.txt) seems more realistic but I think it suffers from lots of sentences removed from the data that interrupted the flow in the dialogs.\n",
    "\n",
    "- As the `temperature` increased, so did the randomness in the dialogs\n",
    "\n",
    "- Getting a lot more sentences without interruption in the flow with just the most commonly used words should produce better results\n",
    "\n",
    "## Resources\n",
    "1. [Text generation with LSTM](https://github.com/fchollet/deep-learning-with-python-notebooks/blob/master/8.1-text-generation-with-lstm.ipynb) (notebook)"
   ]
  },
  {
   "cell_type": "code",
   "execution_count": null,
   "metadata": {},
   "outputs": [],
   "source": []
  }
 ],
 "metadata": {
  "kernelspec": {
   "display_name": "Python [default]",
   "language": "python",
   "name": "python3"
  },
  "language_info": {
   "codemirror_mode": {
    "name": "ipython",
    "version": 3
   },
   "file_extension": ".py",
   "mimetype": "text/x-python",
   "name": "python",
   "nbconvert_exporter": "python",
   "pygments_lexer": "ipython3",
   "version": "3.6.6"
  }
 },
 "nbformat": 4,
 "nbformat_minor": 1
}
