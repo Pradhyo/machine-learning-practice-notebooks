{
 "cells": [
  {
   "cell_type": "raw",
   "metadata": {
    "_uuid": "b0a901586dab16f501b400a30a1525e1903063fa"
   },
   "source": [
    "layout: single\n",
    "title: Training a RNN to generate dialogs for The Office\n",
    "header:\n",
    "  overlay_image: /assets/images/headers/papers.jpg\n",
    "  overlay_filter: \"0.5\"\n",
    "  caption: \"[Unsplash](https://unsplash.com/photos/MldQeWmF2_g)\"\n",
    "excerpt: \"Long short-term memory cells were used as part of the RNN\"\n",
    "categories:\n",
    "  - Deep Learning\n",
    "tags:\n",
    "  - ml\n",
    "  - machine learning\n",
    "  - rnn\n",
    "  - ai\n",
    "  - aritficial intelligence\n",
    "  - keras"
   ]
  },
  {
   "cell_type": "markdown",
   "metadata": {
    "_uuid": "74ccea01469e7638fbad245c217c8b8c2b2f79fa"
   },
   "source": [
    "I try out a Recurrent Neural Network in [this notebook](https://github.com/Pradhyo/machine-learning-practice-notebooks/blob/master/text-generation/keras-lstm-script-generator.ipynb) to try and generate TV scripts for the Office. While the output was nowhere near being realistic, it was still interesting looking at some of the lines generated using this method.\n",
    "\n",
    "The first thing to do was to fetch the lines from the Office so I wrote [some web scraping code for this](https://github.com/Pradhyo/the-office-us-tv-show). I first learned about Recurrent Neural Networks from my [Deep Learning Nanodegree](https://www.udacity.com/course/deep-learning-nanodegree--nd101) and did a [similar project](https://github.com/Pradhyo/udacity-deep-learning-nanodegree/tree/master/tv-script-generation) there using Tensorflow but I wanted to try this out with Keras. \n",
    "\n",
    "I found [this notebook](https://github.com/fchollet/deep-learning-with-python-notebooks/blob/master/8.1-text-generation-with-lstm.ipynb) that contains the Keras implementation but when I tried to run it as is as the first step with the Office dataset, it exceeded the time limit on [Kaggle Kernels with a free GPU](https://www.kaggle.com/dansbecker/running-kaggle-kernels-with-a-gpu) despite their very generous 9 hour limit.\n",
    "\n",
    "So I started modifying the code and decided to use words instead of characters thinking it will produce better results since the output from the original code had some invalid words. This way the model would just have learn to form sentences and not learn to form words too. However this resulted in the kernel running out of memory due to the huge increase in number of building blocks - there were around 70 unique characters before but around 10,000 unique words. \n",
    "\n",
    "To reduce the amount of unique words, I first removed lines of everyone other than Michael but since he had a lot of lines, the data was still too much. I ended up using just the lines for Phylis and ended up with some good results. Since I wanted to capture the styles of all actors, I decided another approach to reduce the data - getting the top 2000 common words and considering just the lines made of these words.\n",
    "\n",
    "All of these steps can be seen in this [initial notebook](https://github.com/Pradhyo/machine-learning-practice-notebooks/blob/master/text-generation/keras-lstm-script-generator-scratchpad.ipynb)."
   ]
  },
  {
   "cell_type": "code",
   "execution_count": 1,
   "metadata": {
    "_cell_guid": "b1076dfc-b9ad-4769-8c92-a6c4dae69d19",
    "_uuid": "8f2839f25d086af736a60e9eeb907d3b93b6e0e5"
   },
   "outputs": [
    {
     "name": "stderr",
     "output_type": "stream",
     "text": [
      "Using TensorFlow backend.\n"
     ]
    }
   ],
   "source": [
    "# https://github.com/fchollet/deep-learning-with-python-notebooks/blob/master/8.1-text-generation-with-lstm.ipynb\n",
    "import keras\n",
    "import numpy as np"
   ]
  },
  {
   "cell_type": "code",
   "execution_count": 2,
   "metadata": {
    "_cell_guid": "79c7e3d0-c299-4dcb-8224-4455121ee9b0",
    "_uuid": "d629ff2d2480ee46fbb7e2d37f6b5fab8052498a"
   },
   "outputs": [
    {
     "name": "stdout",
     "output_type": "stream",
     "text": [
      "Downloading data from https://raw.githubusercontent.com/Pradhyo/the-office-us-tv-show/master/the-office-all-episodes.txt\n",
      "4120576/4117483 [==============================] - 0s 0us/step\n",
      "Corpus length: 4108664\n"
     ]
    }
   ],
   "source": [
    "# Get the script\n",
    "def get_text():\n",
    "    \n",
    "    # On kaggle\n",
    "    office_script_file_url = \"https://raw.githubusercontent.com/Pradhyo/the-office-us-tv-show/master/the-office-all-episodes.txt\"\n",
    "    path = keras.utils.get_file('script.txt', origin=office_script_file_url)\n",
    "    \n",
    "    # On local machine\n",
    "    # path = \"the-office-all-episodes.txt\"\n",
    "    \n",
    "    text = open(path).read().lower()\n",
    "    return text\n",
    "\n",
    "text = get_text()\n",
    "print('Corpus length:', len(text))"
   ]
  },
  {
   "cell_type": "code",
   "execution_count": 3,
   "metadata": {
    "_uuid": "6cca9ff2c1c9018c33a0020a94f27476ae204ca6"
   },
   "outputs": [
    {
     "name": "stdout",
     "output_type": "stream",
     "text": [
      "[(' ', 683865),\n",
      " ('e', 325287),\n",
      " ('t', 257302),\n",
      " ('a', 255726),\n",
      " ('o', 249519),\n",
      " ('i', 231860),\n",
      " ('n', 192916),\n",
      " ('h', 182121),\n",
      " ('s', 168200),\n",
      " ('r', 145558),\n",
      " ('l', 140074),\n",
      " ('d', 111329),\n",
      " ('y', 104883),\n",
      " ('m', 102473),\n",
      " ('.', 100099),\n",
      " ('u', 97290),\n",
      " ('g', 81523),\n",
      " ('c', 79151),\n",
      " ('w', 78946),\n",
      " ('\\n', 69462),\n",
      " (':', 60428),\n",
      " ('p', 53410),\n",
      " (',', 47960),\n",
      " ('k', 47018),\n",
      " ('b', 43158),\n",
      " ('f', 42647),\n",
      " (\"'\", 33029),\n",
      " ('v', 27859),\n",
      " ('?', 18735),\n",
      " ('j', 18556),\n",
      " ('[', 12031),\n",
      " (']', 12021),\n",
      " ('!', 9991),\n",
      " ('-', 6245),\n",
      " ('x', 3625),\n",
      " ('’', 3209),\n",
      " ('\"', 2435),\n",
      " ('z', 2005),\n",
      " ('q', 1331),\n",
      " ('0', 1038),\n",
      " ('1', 615),\n",
      " ('2', 424),\n",
      " ('…', 417),\n",
      " ('5', 360),\n",
      " ('”', 255),\n",
      " ('3', 251),\n",
      " ('4', 248),\n",
      " ('“', 246),\n",
      " ('9', 156),\n",
      " ('—', 149),\n",
      " (';', 145),\n",
      " ('$', 138),\n",
      " ('8', 137),\n",
      " ('7', 115),\n",
      " ('6', 109),\n",
      " ('/', 88),\n",
      " ('&', 85),\n",
      " ('‘', 69),\n",
      " ('#', 59),\n",
      " ('*', 59),\n",
      " ('%', 58),\n",
      " ('–', 55),\n",
      " (')', 45),\n",
      " ('(', 32),\n",
      " ('_', 6),\n",
      " ('é', 6),\n",
      " ('+', 4),\n",
      " ('ü', 4),\n",
      " ('@', 3),\n",
      " ('�', 3),\n",
      " ('ñ', 3),\n",
      " ('{', 2),\n",
      " ('}', 2),\n",
      " ('=', 1)]\n",
      "74\n"
     ]
    }
   ],
   "source": [
    "from collections import Counter\n",
    "from pprint import pprint\n",
    "char_counts = Counter()\n",
    "for c in text:\n",
    "    char_counts[c] += 1\n",
    "    \n",
    "pprint(char_counts.most_common())\n",
    "pprint(len(char_counts))"
   ]
  },
  {
   "cell_type": "code",
   "execution_count": 4,
   "metadata": {
    "_uuid": "e08e65fa058c0fa2c38323d0a37307a1498e1ed4"
   },
   "outputs": [
    {
     "name": "stdout",
     "output_type": "stream",
     "text": [
      "m: ['l right jim. your qu', 'ibrary?\\njim: oh, i t', 'it. so...\\nmichael: s', \" you've come to the \", 'me to the master for']\n",
      "i: ['ll right jim. your q', 'r quarterlies look v', 'how are things at th', 's at the library?\\nji', 'library?\\njim: oh, i ']\n",
      "c: [\"ld you. i couldn't c\", \" couldn't close it. \", '. so...\\nmichael: so ', \"so you've come to th\", 'for guidance? is thi']\n",
      "h: ['ery good. how are th', ' how are things at t', 'hings at the library', 'ry?\\njim: oh, i told ', ' so...\\nmichael: so y']\n",
      "a: ['m. your quarterlies ', 'good. how are things', 're things at the lib', 't the library?\\njim: ', 'so...\\nmichael: so yo']\n",
      "e: ['your quarterlies loo', ' quarterlies look ve', 'ies look very good. ', 'od. how are things a', 'ings at the library?']\n",
      "l: ['ur quarterlies look ', 'arterlies look very ', 'gs at the library?\\nj', ': oh, i told you. i ', \"you. i couldn't clos\"]\n",
      ":: ['brary?\\njim: oh, i to', \"..\\nmichael: so you'v\", 'opper?\\njim: actually', 'h.\\nmichael: all righ', '.\\n\\nmichael: [on the ']\n",
      " : ['right jim. your quar', ' jim. your quarterli', 'uarterlies look very', 'rlies look very good', ' look very good. how']\n",
      "r: ['t jim. your quarterl', '. your quarterlies l', 'our quarterlies look', 'es look very good. h', 'ood. how are things ']\n",
      "g: ['look very good. how ', 'w are things at the ', 'aster for guidance? ', \"u're saying, grassho\", 'e saying, grasshoppe']\n",
      "t: [' your quarterlies lo', '. how are things at ', 'e things at the libr', 'things at the librar', 'im: oh, i told you. ']\n",
      "j: [' library?\\njim: oh, i', 'sshopper?\\njim: actua', 'products. just wante', 'uh, yeah. just a fax', 'rumming]\\n\\njim: my jo']\n",
      ".: [' right jim. your qua', ' very good. how are ', 'i told you. i couldn', 't close it. so...\\nmi', 'ose it. so...\\nmichae']\n",
      "y: ['ight jim. your quart', 's look very good. ho', 'the library?\\njim: oh', 'h, i told you. i cou', \"chael: so you've com\"]\n",
      "o: ['ght jim. your quarte', 'rterlies look very g', 'terlies look very go', 'ook very good. how a', 'ok very good. how ar']\n",
      "u: ['ht jim. your quarter', 'im. your quarterlies', ' i told you. i could', \" you. i couldn't clo\", \"ael: so you've come \"]\n",
      "q: ['jim. your quarterlie', '-manger. [quick cut ', 'ut... uh, quantities', '\\nmichael: question. ', ', you big queen.\\nmic']\n",
      "s: ['quarterlies look ver', ' are things at the l', \"uldn't close it. so.\", 'close it. so...\\nmich', \"\\nmichael: so you've \"]\n",
      "k: ['erlies look very goo', \"es, i'd like to spea\", 'ke to speak to your ', 'ted to talk to you m', 'ger. [quick cut scen']\n",
      "v: ['lies look very good.', \"l: so you've come to\", 'thank you very much,', 'she had a very low v', ' very low voice. pro']\n",
      "d: ['k very good. how are', ' oh, i told you. i c', \"ou. i couldn't close\", 'er for guidance? is ', ' you called me in he']\n",
      "w: ['y good. how are thin', \"? is this what you'r\", 'll right. well, let ', 'let me show you how ', \"how you how it's don\"]\n",
      "n: ['ow are things at the', \"u. i couldn't close \", ' for guidance? is th', \"ou're saying, grassh\", 'alled me in here, bu']\n",
      "b: [' at the library?\\njim', ' in here, but yeah.\\n', 'voice. probably a sm', 'ice. probably a smok', \" uh, i've been at du\"]\n",
      "?: ['he library?\\njim: oh,', 'r guidance? is this ', 'rasshopper?\\njim: act', 'right, pam?\\npam: wel', '\\npam: what?\\nmichael:']\n",
      "\n",
      ": ['e library?\\njim: oh, ', ' it. so...\\nmichael: ', 'asshopper?\\njim: actu', ' but yeah.\\nmichael: ', \"it's done.\\n\\nmichael:\"]\n",
      ",: ['y?\\njim: oh, i told y', \"'re saying, grasshop\", ': actually, you call', 'me in here, but yeah', 'ight. well, let me s']\n",
      "': [\". i couldn't close i\", \"el: so you've come t\", \"s what you're saying\", \"you how it's done.\\n\\n\", \"ne] yes, i'd like to\"]\n",
      "f: ['he master for guidan', ' to your office mana', 'to your office manag', ' manager of dunder m', ' dunder mifflin pape']\n",
      "p: ['g, grasshopper?\\njim:', ', grasshopper?\\njim: ', ': [on the phone] yes', ' like to speak to yo', ' manager, please. ye']\n",
      "[: ['\\nmichael: [on the ph', 'a-manger. [quick cut', ' mistake. [hangs up]', 'er, so... [clears th', 'ears ago. [growls]\\np']\n",
      "]: [\" the phone] yes, i'd\", ' cut scene] all righ', ' [hangs up] that was', \"ars throat] so that'\", 'o. [growls]\\npam: wha']\n",
      "-: ['ou manager-a-manger.', ' manager-a-manger. [', '. pam! pam-pam! pam ', '... ringie-dingie-di', 'gie-dingie-ding!\\njan']\n",
      "1: ['fflin for 12 years, ', 't it for $1,200. fix', 'rofits by 17% or whe', 'it says, \"100% post-', ' us erase 100 years ']\n",
      "2: ['flin for 12 years, t', \"got a '78 280z. boug\", 'it for $1,200. fixed', ' up being 25% of my ', 'more like 200 years.']\n",
      "!: [', pam. pam! pam-pam!', 'm! pam-pam! pam bees', 'ichael: oh! pam, thi', 'per basket! look at ', 'ok at that! look at ']\n",
      "x: [' just a fax.\\nmichael', 'well, i faxed one ov', 'e get a fax this mor', 'at with faxes.\\njan: ', 'is fine. excellent.\\n']\n",
      "\": [' they go, \"god we\\'ve', 'hilarious.\" \"and you', 'larious.\" \"and you g', 'out of us.\" [shows t', 'and said, \"mr. scott']\n",
      "z: [' be downsizing.\\nmich', 'use downsizing is a ', 'out downsizing himse', 'not downsizing himse', 'out downsizing?\\n\\nmic']\n",
      "7: [\" i got a '78 280z. b\", 'ofits by 17% or when', 'ill lose $7,000 if y', ' for like 7 seconds.', '..now, $9.78, signs ']\n",
      "8: [\"i got a '78 280z. bo\", \"ot a '78 280z. bough\", \" amazing '80s party \", 'e walked 18 miles.\\nm', 'ftware, 128-bit encr']\n",
      "0: [\"t a '78 280z. bought\", 't for $1,200. fixed ', ' for $1,200. fixed i', 'e worth, 50 cents?\\nm', 'michael: 50 cents, y']\n",
      "$: ['ht it for $1,200. fi', \"there's a $1,200 ded\", 've you... $25.\\noscar', 'alkathon. $25.\\noscar', 'will lose $7,000 if ']\n",
      "5: ['se worth, 50 cents?\\n', '\\nmichael: 50 cents, ', ' notes at 50 cents a', 'up being 25% of my c', ' you... $25.\\noscar: ']\n",
      "%: ['fits by 17% or when ', 'says, \"100% post-con', 'p being 25% of my co', 've that 99% of the p', 'wight: 100%.\\npam: di']\n",
      "9: ['ieve that 99% of the', 'eve that 99% of the ', 'ogi, only 99 cents p', 'gi, only 99 cents pl', \"?\\ntoby: '89.\\nkaty: o\"]\n",
      ";: [\"on't laugh; please d\", \"urt mozart; you're g\", \"s terrible; no one's\", 'e his mind; he thoug', 'wait, wait; one thin']\n",
      "3: [\"at it's a 300ft drop\", ': it goes 300 feet i', \"at it's a 300ft drop\", ', it goes 300 feet i', '0 pounds, 3 inches. ']\n",
      "4: ['e turning 46, but, c', \" um, he's 41 years o\", 'can have 14. marjory', '\\nmichael: 42897. ok.', '? this is 400 bucks.']\n",
      "6: [' turning 46, but, co', ' pam. pam 6.0.\\n[pam ', 'left me a 60 acre wo', \"en you're 65. hey, i\", 'lose on 126 over the']\n",
      "): ['es phyllis)] um... y', 'iq (it guy): that ju', \"iq (it guy): what's \", \"iq (it guy): oh, it'\", 'iq (it guy): by keyw']\n",
      "&: ['ercrombie & fitch?\\nm', \"the most m&m's in th\", \" bowl of m&m's into \", 'y.\\n\\nkevin & oscar: o', \" pack of m&m's, his \"]\n",
      "#: ['is \"mambo #5.\" so...', \"michael's #2 guy for\", 'on worker #1: hey, y', 'on worker #2: ass, a', 'on worker #2: ...ass']\n",
      "/: [' an amused/appreciat', ' too much / in this ', 'mmmpt.\\npam/jim: [in ', 'ifty eyes / ryan - d', 'ed pupils / kelly - ']\n",
      "(: ['...\\nsadiq (it guy): ', '...\\nsadiq (it guy): ', 'er]\\nsadiq (it guy): ', 'ch?\\nsadiq (it guy): ', '\". [sadiq (it guy) t']\n",
      "*: ['queer as f***, so...', 'ueer as f***, so...\\n', 'eer as f***, so...\\nj', 'is is bull****!\\n\\nmic', 's is bull****!\\n\\nmich']\n",
      "+: [\"' or an 'a+' but i c\", \"re's an 'a++'.\\n\\nkare\", \"e's an 'a++'.\\n\\nkaren\", ' a solid b+. althoug']\n",
      "{: [' kidding. {kevin tak', 'porpoise. {erin argu']\n",
      "@: ['en] packer@dundermif', ' packaging@dundermif', ' mac.com, @ their we']\n",
      "�: ['ang tao, j�rg ro�kop', 'o, j�rg ro�kopf, and', ': de class�.\\nmichael']\n",
      "_: ['ing out \"s_an_ey is ', ' out \"s_an_ey is che', 'ey is chea_in_ _n _e', 'is chea_in_ _n _eri]', ' chea_in_ _n _eri] t']\n",
      "}: ['bumps toby}\\ndwight: ', 'one in cab} after dw']\n",
      "=: ['o smart. e=mc... squ']\n",
      "’: ['h, for god’s sake. [', 'aces. that’s it. som', 'or you don’t.  and i', ' and i don’t.  but i', ' and i don’t really ']\n",
      "…: ['california… for the ', 'd he chose…\\n\\nandy: [', 'h hands] i… it’s unb', '.\\ndwight: … 2, 3! [p', 'f the list… attack!\\n']\n",
      "“: ['told him, “i need a ', 'en i say, “and shove', 'from jim. “this is g', 'meredith: “suck it l', 'was like, “who’s tha']\n",
      "”: [' enforcer.” smart, r', 'your butt.” it’s stu', 'ain later.”\\npam: [ev', 'it losers.”\\n\\nryan: o', ' like her.” now i’m ']\n",
      "‘: ['k, it’s a ‘little pr', 'elly] and ‘big pregs', 'ff table] ‘specially', 'who in an ‘alive’ si', 't’s-\\npam: ‘scuse me?']\n"
     ]
    },
    {
     "name": "stdout",
     "output_type": "stream",
     "text": [
      "ñ: ['ame is. señor loaden', 'ughing] señor loaden', ' called señor loaden']\n",
      "–: ['reminders – no burpi', 'you asked – connecti', 'chapter 2 – announci', 'chapter 4 – one of t', 'chapter 9 – the tabl']\n",
      "ü: ['rine and güiro]\\ndarr', '[removes güiro and b', '. [plays güiro and s', ' playing güiro] fish']\n",
      "é: ['elve clichés every t', ' her fiancé ravi was', 's ex-fiancé’s weddin', 's ex-fiancé.\\npam: [e', 'y ex-fiancé.\\npam: [s']\n",
      "—: ['0 children—\\npam: kay', 'rk and, um—\\npete: pe', 'k: is this—is this l', 't a glance—\\ndwight: ', 'ait, sales—what sale']\n"
     ]
    }
   ],
   "source": [
    "# Get some sample strings for each character to explore the data\n",
    "def sample_strings(char, string_length=20, num_samples=5):\n",
    "    sample = 0\n",
    "    samples = []\n",
    "    for i, c in enumerate(text):\n",
    "        if i < string_length:\n",
    "            continue\n",
    "        if char == c:\n",
    "            samples.append(text[int(i-string_length/2):int(i+string_length/2)])\n",
    "            sample += 1\n",
    "            if sample == num_samples:\n",
    "                break\n",
    "    return samples\n",
    "\n",
    "for c in char_counts:\n",
    "    print(f\"{c}: {sample_strings(c)}\")"
   ]
  },
  {
   "cell_type": "code",
   "execution_count": 5,
   "metadata": {
    "_uuid": "b4333856dab3fec3329891b9ab2706a4462c2905"
   },
   "outputs": [
    {
     "name": "stdout",
     "output_type": "stream",
     "text": [
      ":: [' at the library?\\njim: oh, i told you. i ', \"se it. so...\\nmichael: so you've come to \", 'ng, grasshopper?\\njim: actually, you call', 'e, but yeah.\\nmichael: all right. well, l', \" it's done.\\n\\nmichael: [on the phone] yes\"]\n",
      " : ['im. your quarterlies look very good. how', 'our quarterlies look very good. how are ', 'uarterlies look very good. how are thing', 'lies look very good. how are things at t', ' look very good. how are things at the l']\n",
      ".: ['rlies look very good. how are things at ', \"\\njim: oh, i told you. i couldn't close i\", \" i couldn't close it. so...\\nmichael: so \", \"ouldn't close it. so...\\nmichael: so you'\", \"uldn't close it. so...\\nmichael: so you'v\"]\n",
      "?: ['hings at the library?\\njim: oh, i told yo', \" master for guidance? is this what you'r\", ' saying, grasshopper?\\njim: actually, you', \" forever. right, pam?\\npam: well. i don't\", '. [growls]\\npam: what?\\nmichael: any messa']\n",
      "\n",
      ": ['ings at the library?\\njim: oh, i told you', \"dn't close it. so...\\nmichael: so you've \", 'saying, grasshopper?\\njim: actually, you ', 'e in here, but yeah.\\nmichael: all right.', \"w you how it's done.\\n\\nmichael: [on the p\"]\n",
      ",: ['the library?\\njim: oh, i told you. i coul', \"s what you're saying, grasshopper?\\njim: \", 'opper?\\njim: actually, you called me in h', 'ou called me in here, but yeah.\\nmichael:', 'ael: all right. well, let me show you ho']\n",
      "': [\"i told you. i couldn't close it. so...\\nm\", \"o...\\nmichael: so you've come to the mast\", \"ce? is this what you're saying, grasshop\", \"t me show you how it's done.\\n\\nmichael: [\", \"on the phone] yes, i'd like to speak to \"]\n",
      "[: [\"t's done.\\n\\nmichael: [on the phone] yes, \", 'u manager-a-manger. [quick cut scene] al', ' sorry. my mistake. [hangs up] that was ', 'bly a smoker, so... [clears throat] so t', 'ouple of years ago. [growls]\\npam: what?\\n']\n",
      "]: [\"chael: [on the phone] yes, i'd like to s\", 'er. [quick cut scene] all right. done de', 'y mistake. [hangs up] that was a woman i', \"so... [clears throat] so that's the way \", 'f years ago. [growls]\\npam: what?\\nmichael']\n",
      "-: [' talk to you manager-a-manger. [quick cu', 'alk to you manager-a-manger. [quick cut ', 'onist, pam. pam! pam-pam! pam beesly. pa', 'd of going... ringie-dingie-ding!\\njan: i', \"ing... ringie-dingie-ding!\\njan: i've spo\"]\n",
      "!: ['ceptionist, pam. pam! pam-pam! pam beesl', 't, pam. pam! pam-pam! pam beesly. pam ha', 't a fax.\\nmichael: oh! pam, this is from ', 'he wastepaper basket! look at that! look', 'basket! look at that! look at that face.']\n",
      "\": ['best boss. they go, \"god we\\'ve never wor', 'e. you\\'re hilarious.\" \"and you get the b', ' you\\'re hilarious.\" \"and you get the bes', ' the best out of us.\" [shows the camera ', 'me to me, and said, \"mr. scott, would yo']\n",
      "$: ['280z. bought it for $1,200. fixed it up.', \"o vision, there's a $1,200 deductible.\\n\\n\", \"oing to give you... $25.\\noscar: that's..\", \"hew's... walkathon. $25.\\noscar: per mile\", 'arol: you will lose $7,000 if you walk a']\n",
      "%: ['reased profits by 17% or when i cut expe', 'e back it says, \"100% post-consumer cont', 'all ends up being 25% of my commission f', '. we believe that 99% of the problems in', 'dential?\\ndwight: 100%.\\npam: did you just']\n",
      ";: [\", sorry. don't laugh; please don't laugh\", \" try and hurt mozart; you're going to ge\", \"r. devon is terrible; no one's gonna mis\", 'ould change his mind; he thought that i ', 'pid.\\njim: wait, wait; one thing. uh, by ']\n",
      "): ['el: [ignores phyllis)] um... yeah. who e', 'ted...\\nsadiq (it guy): that just means y', \" oh...\\nsadiq (it guy): what's your passw\", \"puter]\\nsadiq (it guy): oh, it's 1-2-3.\\nm\", 'earch?\\nsadiq (it guy): by keyword phrase']\n",
      "&: ['g.\\npam: abercrombie & fitch?\\nmichael: uh', \"o can put the most m&m's in their mouth?\", \": [empties bowl of m&m's into his mouth]\", 'led anybody.\\n\\nkevin & oscar: one, two, t', \".. a party pack of m&m's, his favorite c\"]\n",
      "#: ['hone ring is \"mambo #5.\" so...\\npam: [lau', \"have been michael's #2 guy for about 5 y\", 'efrigeration worker #1: hey, you wanna s', 'efrigeration worker #2: ass, ass, ass...', 'efrigeration worker #2: ...ass, ass, ass']\n",
      "/: [' gives her an amused/appreciative grin]\\n', \"you've had too much / in this life.\\njim:\", 'stanley: hmmmpt.\\npam/jim: [in unison] i ', '\"creed -shifty eyes / ryan - dilated pup', 'an - dilated pupils / kelly - hyperactiv']\n",
      "(: ['-protected...\\nsadiq (it guy): that just ', \"ichael: oh...\\nsadiq (it guy): what's you\", \" on computer]\\nsadiq (it guy): oh, it's 1\", 'o you search?\\nsadiq (it guy): by keyword', 'and \"funny\". [sadiq (it guy) types; resu']\n",
      "*: [' i watch, queer as f***, so...\\njan: that', \"i watch, queer as f***, so...\\njan: that'\", \" watch, queer as f***, so...\\njan: that's\", 'ichael: this is bull****!\\n\\nmichael: me w', 'chael: this is bull****!\\n\\nmichael: me wa']\n",
      "+: [\"r be an 'a' or an 'a+' but i completely \", \"t that there's an 'a++'.\\n\\nkaren: [record\", \" that there's an 'a++'.\\n\\nkaren: [recordi\", 'at lecture a solid b+. although, for the']\n",
      "{: [' got to be kidding. {kevin takes bite of', 'ooth as a porpoise. {erin argues]\\npete: ']\n",
      "@: ['puter screen] packer@dundermifflin.com. ', 'fflin.com. packaging@dundermifflin.com. ', 's are just mac.com, @ their website, wha']\n",
      "�: ['waldner, wang tao, j�rg ro�kopf, and of ', 'r, wang tao, j�rg ro�kopf, and of course', 't all.\\njim: de class�.\\nmichael: french. ']\n",
      "_: ['ame, spelling out \"s_an_ey is chea_in_ _', ', spelling out \"s_an_ey is chea_in_ _n _', 'out \"s_an_ey is chea_in_ _n _eri] that a', ' \"s_an_ey is chea_in_ _n _eri] that and ', 's_an_ey is chea_in_ _n _eri] that and th']\n",
      "}: ['er. [fist bumps toby}\\ndwight: so long da', '\\ntoby: [alone in cab} after dwight fired']\n",
      "=: [\"ic? 'i'm so smart. e=mc... squared. i dr\"]\n",
      "’: ['\\n\\noscar: oh, for god’s sake. [notices er', 'n weird places. that’s it. sometimes you', 'er get it or you don’t.  and i don’t.  b', 'ou don’t.  and i don’t.  but i am so exc', 'r own job. and i don’t really know how s']\n",
      "…: ['on robert california… for the manager po', 'fill.   and he chose…\\n\\nandy: [drumroll w', 'umroll with hands] i… it’s unbelievable.', '. yeah. oh.\\ndwight: … 2, 3! [pulls phyll', 'eft side of the list… attack!\\njim: wait,']\n",
      "“: ['lk. and i told him, “i need a really str', 'ion and then i say, “and shove it up you', ' oh, text from jim. “this is getting ver', 'om kevin.\\nmeredith: “suck it losers.”\\n\\nr', 'ough here was like, “who’s that receptio']\n",
      "”: ['u to be my enforcer.” smart, right?\\nkell', 'ove it up your butt.” it’s stupid, but i', ' will explain later.”\\npam: [everyone’s p', 'th: “suck it losers.”\\n\\nryan: okay, not t', 'tionist? i like her.” now i’m just a fat']\n",
      "‘: ['ngela: look, it’s a ‘little pregs’ [poin', 's to her belly] and ‘big pregs’ [points ', 'cks toby off table] ‘specially with me a', 'would eat who in an ‘alive’ situation. n', '’t think it’s-\\npam: ‘scuse me?\\ndwight: s']\n",
      "–: ['er simple reminders – no burping, no slu', \" i'm glad you asked – connecticut casual\", 'rd!\\n\\njim: chapter 2 – announcing guests ', \"lf.\\n\\njim: chapter 4 – one of the host's \", 'er.\\n\\njim: chapter 9 – the tableau vivant']\n",
      "—: ['rade of 500 children—\\npam: kay, well, yo', '. it’s clark and, um—\\npete: pete!\\nandy: ', ' man?\\nclark: is this—is this like code f', 'ust give it a glance—\\ndwight: ok\\nclark: ', '\\ndwight: wait, sales—what sales meeting?']\n"
     ]
    }
   ],
   "source": [
    "# See longer strings for non alphanumeric characters\n",
    "for c in char_counts:\n",
    "    if not c.isalnum():\n",
    "        print(f\"{c}: {sample_strings(c, 40)}\")"
   ]
  },
  {
   "cell_type": "markdown",
   "metadata": {
    "_uuid": "7688a90be78aa33bc17f89345a4198b793fea7d2"
   },
   "source": [
    "Looking at the above text, some of the characters like `\\n`appear in between words but some of them like `'` appear as part of the word. \n",
    "I am going to leave the ones within words as is but consider the others as separate words so the model doesn't consider *jim* in`\\njim` different from  just`jim`. I am also going to consider all numbers the same."
   ]
  },
  {
   "cell_type": "code",
   "execution_count": 6,
   "metadata": {
    "_uuid": "4a76b4c3763cd551efebe9c322cff5ae5a8ce1a5"
   },
   "outputs": [
    {
     "name": "stdout",
     "output_type": "stream",
     "text": [
      ": .?\n",
      ",'[]-!\"$%;)&#/(*+{@�_}=’…“”‘–—\n"
     ]
    }
   ],
   "source": [
    "# consider these as words\n",
    "consider_words = ''.join(c for c in char_counts if not c.isalnum())\n",
    "print(consider_words)"
   ]
  },
  {
   "cell_type": "markdown",
   "metadata": {
    "_uuid": "6eb6957bf5a14c5fadd43b7f1d7838c26ce7de58"
   },
   "source": [
    "Looking at the symbols more closely, it doesn't look like there are a lot of symbols that appear within the words so I am just going to consider all of them separate words."
   ]
  },
  {
   "cell_type": "code",
   "execution_count": 7,
   "metadata": {
    "_uuid": "b5bc6871db2f5b3f7276df5106f3fa1eabcad53e"
   },
   "outputs": [
    {
     "name": "stdout",
     "output_type": "stream",
     "text": [
      ": .?\n",
      ",'[]-!\"$%;)&#/(*+{@�_}=’…“”‘–—0\n"
     ]
    }
   ],
   "source": [
    "numbers = '0123456789'\n",
    "def replace_numbers(text):\n",
    "    for n in numbers:\n",
    "        text = text.replace(n, \"0\")\n",
    "    return text\n",
    "\n",
    "text = replace_numbers(text)\n",
    "consider_words += '0' # consider 0 also a word\n",
    "print(consider_words)"
   ]
  },
  {
   "cell_type": "code",
   "execution_count": 8,
   "metadata": {
    "_uuid": "ee1e24211bc0a4ea2a347440c7bbbfe71847cf85"
   },
   "outputs": [
    {
     "name": "stdout",
     "output_type": "stream",
     "text": [
      "['michael', ':', ' ', 'all', ' ', 'right', ' ', 'jim', '.', ' ', 'your', ' ', 'quarterlies', ' ', 'look', ' ', 'very', ' ', 'good', '.', ' ', 'how', ' ', 'are', ' ', 'things', ' ', 'at', ' ', 'the', ' ', 'library', '?', ' ', 'jim', ':', ' ', 'oh', ',', ' ', 'i', ' ', 'told', ' ', 'you', '.', ' ', 'i', ' ', 'couldn', \"'\", 't', ' ', 'close', ' ', 'it', '.', ' ', 'so', '.', '.', '.', ' ', 'michael', ':', ' ', 'so', ' ', 'you', \"'\", 've', ' ', 'come', ' ', 'to', ' ', 'the', ' ', 'master', ' ', 'for', ' ', 'guidance', '?', ' ', 'is', ' ', 'this', ' ', 'what', ' ', 'you', \"'\", 're', ' ', 'saying', ',', ' ', 'grasshopper', '?', ' ', 'jim', ':', ' ', 'actually', ',', ' ', 'you', ' ', 'called', ' ', 'me', ' ', 'in', ' ', 'here', ',', ' ', 'but', ' ', 'yeah', '.', ' ', 'michael', ':', ' ', 'all', ' ', 'right', '.', ' ', 'well', ',', ' ', 'let', ' ', 'me', ' ', 'show', ' ', 'you', ' ', 'how', ' ', 'it', \"'\", 's', ' ', 'done', '.', ' ', ' ', 'michael', ':', ' ', '[', 'on', ' ', 'the', ' ', 'phone', ']', ' ', 'yes', ',', ' ', 'i', \"'\", 'd', ' ', 'like', ' ', 'to', ' ', 'speak', ' ', 'to', ' ', 'your', ' ', 'office', ' ', 'manager', ',', ' ', 'please', '.', ' ', 'yes', ',', ' ', 'hello', '.', ' ', 'this', ' ', 'is', ' ', 'michael', ' ', 'scott', '.', ' ', 'i', ' ', 'am', ' ', 'the', ' ', 'regional', ' ', 'manager', ' ', 'of', ' ', 'dunder', ' ', 'mifflin', ' ', 'paper', ' ', 'products', '.', ' ', 'just', ' ', 'wanted', ' ', 'to', ' ', 'talk', ' ', 'to', ' ', 'you', ' ', 'manager', '-', 'a', '-', 'manger', '.', ' ', '[', 'quick', ' ', 'cut', ' ', 'scene', ']', ' ', 'all', ' ', 'right', '.', ' ', 'done', ' ', 'deal', '.', ' ', 'thank', ' ', 'you', ' ', 'very', ' ', 'much', ',', ' ', 'sir', '.', ' ', 'you', \"'\", 're', ' ', 'a', ' ', 'gentleman', ' ', 'and', ' ', 'a', ' ', 'scholar', '.', ' ', 'oh', ',', ' ', 'i', \"'\", 'm', ' ', 'sorry', '.', ' ', 'ok', '.', ' ', 'i', \"'\", 'm', ' ', 'sorry', '.', ' ', 'my', ' ', 'mistake', '.', ' ', '[', 'hangs', ' ', 'up', ']', ' ', 'that', ' ', 'was', ' ', 'a', ' ', 'woman', ' ', 'i', ' ', 'was', ' ', 'talking', ' ', 'to', ',', ' ', 'so', '.', '.', '.', ' ', 'she', ' ', 'had', ' ', 'a', ' ', 'very', ' ', 'low', ' ', 'voice', '.', ' ', 'probably', ' ', 'a', ' ', 'smoker', ',', ' ', 'so', '.', '.', '.', ' ', '[', 'clears', ' ', 'throat', ']', ' ', 'so', ' ', 'that', \"'\", 's', ' ', 'the', ' ', 'way', ' ', 'it', \"'\", 's', ' ', 'done', '.', ' ', ' ', 'michael', ':', ' ', 'i', \"'\", 've', ',', ' ', 'uh', ',', ' ', 'i', \"'\", 've', ' ', 'been', ' ', 'at', ' ', 'dunder', ' ', 'mifflin', ' ', 'for', ' ', '0', '0', ' ', 'years', ',', ' ', 'the', ' ', 'last', ' ', 'four', ' ', 'as', ' ', 'regional', ' ', 'manager', '.', ' ', 'if', ' ', 'you', ' ', 'want', ' ', 'to', ' ', 'come', ' ', 'through', ' ', 'here', '.', '.', '.', ' ', 'see', ' ', 'we', ' ', 'have', ' ', 'the', ' ', 'entire', ' ', 'floor', '.', ' ', 'so', ' ', 'this', ' ', 'is', ' ', 'my', ' ', 'kingdom', ',', ' ', 'as', ' ', 'far', ' ', 'as', ' ', 'the', ' ', 'eye', ' ', 'can', ' ', 'see', '.', ' ', 'this', ' ', 'is', ' ', 'our', ' ', 'receptionist', ',', ' ', 'pam']\n"
     ]
    }
   ],
   "source": [
    "def split_into_words(text, consider_words):\n",
    "    # Split text into words - characters above are also considered words\n",
    "    text = text.replace(' ', ' | ') # pick a char not in the above list\n",
    "    text = text.replace('\\n', ' | ') # pick a char not in the above list\n",
    "\n",
    "    for char in consider_words:\n",
    "        text = text.replace(char, f\" {char} \") # to split on spaces to get char\n",
    "\n",
    "    words_with_pipe = text.split()\n",
    "    words = [word if word != '|' else ' ' for word in words_with_pipe]\n",
    "    return words\n",
    "\n",
    "words = split_into_words(text, consider_words)\n",
    "print(words[:500])"
   ]
  },
  {
   "cell_type": "code",
   "execution_count": 11,
   "metadata": {
    "_uuid": "e685bba37980e9418b4ed025863a5038b9996dc6"
   },
   "outputs": [],
   "source": [
    "# Length of extracted word sequences\n",
    "maxlen = 20\n",
    "\n",
    "# We sample a new sequence every `step` words\n",
    "step = 3\n",
    "\n",
    "def setup_inputs(words, maxlen, step):\n",
    "    try:\n",
    "        # This holds our extracted sequences\n",
    "        sentences = []\n",
    "\n",
    "        # This holds the targets (the follow-up characters)\n",
    "        next_words = []\n",
    "\n",
    "        for i in range(0, len(words) - maxlen, step):\n",
    "            sentences.append(words[i: i + maxlen])\n",
    "            next_words.append(words[i + maxlen])\n",
    "        print('Number of sequences:', len(sentences))\n",
    "\n",
    "        # List of unique characters in the corpus\n",
    "        unique_words = sorted(list(set(words)))\n",
    "        print('Unique words:', len(unique_words))\n",
    "        # Dictionary mapping unique characters to their index in `unique_words`\n",
    "        word_indices = dict((word, unique_words.index(word)) for word in unique_words)\n",
    "\n",
    "        # Next, one-hot encode the characters into binary arrays.\n",
    "        print('Vectorization...')\n",
    "        print(len(sentences), len(unique_words))\n",
    "        x = np.zeros((len(sentences), maxlen, len(unique_words)), dtype=np.bool)\n",
    "        y = np.zeros((len(sentences), len(unique_words)), dtype=np.bool)\n",
    "        print(len(x),len(y),len(sentences))\n",
    "        for i, sentence in enumerate(sentences):\n",
    "            for t, word in enumerate(sentence):\n",
    "                x[i, t, word_indices[word]] = 1\n",
    "            y[i, word_indices[next_words[i]]] = 1\n",
    "        print(len(x), len(y), len(unique_words), len(word_indices))\n",
    "        return x, y, unique_words, word_indices\n",
    "    except MemoryError as e:\n",
    "        print(e)\n",
    "        pass\n",
    "\n",
    "# Commenting out to avoid MemoryError\n",
    "# Tried catching it but didn't seem to work\n",
    "# x, y, unique_words, word_indices = setup_inputs(words, maxlen, step)\n"
   ]
  },
  {
   "cell_type": "markdown",
   "metadata": {
    "_uuid": "46321bf7d826881064b3ff4e801b6181ce8469c3"
   },
   "source": [
    "### Reducing data\n",
    "\n",
    "Since the above was throwing a MemoryError, I tried reducing the data by considering lines by just one actor. Using Michael's lines caused the same issue again so I tried using lines for Phyllis."
   ]
  },
  {
   "cell_type": "code",
   "execution_count": 12,
   "metadata": {
    "_uuid": "bdd5e5ca1d8320501e456e32c138d4d62f0e56d0"
   },
   "outputs": [
    {
     "name": "stdout",
     "output_type": "stream",
     "text": [
      "phyllis: so what does downsizing actually mean?\n",
      "phyllis: what?\n",
      "phyllis: well, uh, for decorations, maybe we could... it's stupid, forget it.\n",
      "phyllis: i was just going to say, maybe we could have streamers, but that's dumb, everybody has streamers. never mind.\n",
      "phyllis: yeah?\n",
      "phyllis: well, there's green, um, blue... yellow... red...\n",
      "phyllis: oh, boy... you...\n",
      "phyllis: keep me out of it.\n",
      "phyllis: i'd like to play if it's just for fun. i played basketball in school.\n",
      "phyllis: i have a sports bra.\n",
      "phyllis: i'll do it.\n",
      "phyllis: live and learn.\n",
      "phyllis: [whispering] it's about michael.\n",
      "phyllis: dwight, get out of here!!\n",
      "phyllis: what were you doing in the ladies room?!\n",
      "phyllis: why were you peering over the stalls?!\n",
      "phyllis: you are a pervert!\n",
      "phyllis: you, are, a pervert!\n",
      "phyllis: but where would we...go?\n",
      "phyllis: this says \"bushiest beaver\".\n",
      "phyllis: it's, it's fine.\n",
      "phyllis: dwight, get out of here!\n",
      "phyllis: you can't be in here!\n",
      "phyllis: shut up. you're a freak!\n",
      "phyllis: you are...\n",
      "phyllis: i'm telling michael.\n",
      "phyllis: i'm telling michael.\n",
      "phyllis: michael, michael.\n",
      "phyllis: dwight was in the ladies' room and he was looking at me.\n",
      "phyllis: he was looking at me in the ladies' room.\n",
      "phyllis: that's what i said. he was spying in the ladies' room.\n",
      "phyllis: write him up or i'll take it to jan.\n",
      "phyllis: when?\n",
      "phyllis: all right.\n",
      "phyllis: all relationships? eh, even a one-night stand?\n",
      "phyllis: i'm the same age as you, michael.\n",
      "phyllis: we're in the same high school class.\n",
      "phyllis: michael! come on!\n",
      "phyllis: you don't have to worry. i'm not going to...\n",
      "phyllis: ...report you to hr.\n",
      "phyllis: i'll do it.\n",
      "phyllis: are you calling me a ho?\n",
      "phyllis: what do you mean?\n",
      "phyllis: no.\n",
      "phyllis: oh, you say that every time.\n",
      "phyllis: oh, boy...\n",
      "phyllis: um, the davinci code.\n",
      "phyllis: definitely jim.\n",
      "phyllis: come on, pam.\n",
      "phyllis: yeah, i like oscar.\n",
      "phyllis: that's great!\n",
      "phyllis: what are you? a monk?\n",
      "phyllis: ass.\n",
      "phyllis: mmm-hmm.\n",
      "phyllis: thanks.\n",
      "phyllis: that's the character's name?\n"
     ]
    }
   ],
   "source": [
    "text = get_text()\n",
    "\n",
    "selected_actor = \"phyllis\"\n",
    "\n",
    "def get_selected_lines(text, selected_actor):\n",
    "    lines = text.split(\"\\n\")\n",
    "    return \"\\n\".join(line for line in lines if line.startswith(f\"{selected_actor}:\"))\n",
    "\n",
    "text = get_selected_lines(text, selected_actor)\n",
    "print(text[:2000])"
   ]
  },
  {
   "cell_type": "code",
   "execution_count": 13,
   "metadata": {
    "_uuid": "fa029ca2ba6a0f3290fc36d47e7ab1e1a6651eca"
   },
   "outputs": [
    {
     "name": "stdout",
     "output_type": "stream",
     "text": [
      "Number of sequences: 8328\n",
      "Unique words: 1813\n",
      "Vectorization...\n",
      "8328 1813\n",
      "8328 8328 8328\n",
      "8328 8328 1813 1813\n"
     ]
    }
   ],
   "source": [
    "text = replace_numbers(text)\n",
    "words = split_into_words(text, consider_words)\n",
    "x, y, unique_words, word_indices = setup_inputs(words, maxlen, step)"
   ]
  },
  {
   "cell_type": "code",
   "execution_count": 14,
   "metadata": {
    "_uuid": "f8b2beb0c6c202cbe948122d395c70118e6702ed"
   },
   "outputs": [],
   "source": [
    "from keras import layers\n",
    "\n",
    "def build_model(maxlen, num_unique_words):\n",
    "    model = keras.models.Sequential()\n",
    "    model.add(layers.LSTM(128, input_shape=(maxlen, num_unique_words)))\n",
    "    model.add(layers.Dense(num_unique_words, activation='softmax'))\n",
    "    optimizer = keras.optimizers.RMSprop(lr=0.01)\n",
    "    model.compile(loss='categorical_crossentropy', optimizer=optimizer)    \n",
    "    return model\n",
    "\n",
    "model = build_model(maxlen, len(unique_words))"
   ]
  },
  {
   "cell_type": "code",
   "execution_count": 15,
   "metadata": {
    "_uuid": "d7d6c0d554e9e28a5027051cc78140e891c32416"
   },
   "outputs": [],
   "source": [
    "def sample(preds, temperature=1.0):\n",
    "    preds = np.asarray(preds).astype('float64')\n",
    "    preds = np.log(preds) / temperature\n",
    "    exp_preds = np.exp(preds)\n",
    "    preds = exp_preds / np.sum(exp_preds)\n",
    "    probas = np.random.multinomial(1, preds, 1)\n",
    "    return np.argmax(probas)"
   ]
  },
  {
   "cell_type": "code",
   "execution_count": 17,
   "metadata": {
    "_uuid": "3f0e6abf7a2cc2b555c9c6663a1135a9a4bf33f2"
   },
   "outputs": [
    {
     "name": "stdout",
     "output_type": "stream",
     "text": [
      "Epoch 1/1\n",
      "8328/8328 [==============================] - 6s 716us/step - loss: 2.6218\n",
      "Epoch 1/1\n",
      "8328/8328 [==============================] - 6s 721us/step - loss: 2.3866\n",
      "Epoch 1/1\n",
      "8328/8328 [==============================] - 6s 721us/step - loss: 2.2096\n",
      "Epoch 1/1\n",
      "8328/8328 [==============================] - 6s 723us/step - loss: 2.0400\n"
     ]
    }
   ],
   "source": [
    "import random\n",
    "import sys\n",
    "\n",
    "def train_model(text, words, unique_words, word_indices, max_epoch, script_file, model_file=\"\"):\n",
    "    with open(script_file, \"wt\") as f:\n",
    "        f.write(\"\") # Just to create/overwrite the file\n",
    "\n",
    "    for epoch in range(1, max_epoch):\n",
    "        with open(script_file, \"at\") as f:\n",
    "            f.write(f'\\n\\nepoch {epoch}\\n\\n')\n",
    "        # Fit the model for 1 epoch on the available training data\n",
    "        model.fit(x, y,\n",
    "                  batch_size=128,\n",
    "                  epochs=1)\n",
    "\n",
    "        # Select a text seed at random\n",
    "        start_index = random.randint(0, len(text) - maxlen - 1)\n",
    "        generated_text = words[start_index: start_index + maxlen]\n",
    "\n",
    "        with open(script_file, \"at\") as f:\n",
    "            f.write('--- Generating with seed: \"' + ''.join(generated_text) + '\"\\n')\n",
    "\n",
    "        with open(script_file, \"at\") as f:        \n",
    "            for temperature in [0.2, 0.5, 1.0, 1.2]:\n",
    "                f.write('\\n--- temperature: ' + str(temperature) + \"\\n\")\n",
    "                f.write(''.join(generated_text))\n",
    "\n",
    "                for i in range(200):\n",
    "                    sampled = np.zeros((1, maxlen, len(unique_words)))\n",
    "                    for t, word in enumerate(generated_text):\n",
    "                        sampled[0, t, word_indices[word]] = 1.\n",
    "\n",
    "                    preds = model.predict(sampled, verbose=0)[0]\n",
    "                    next_index = sample(preds, temperature)\n",
    "                    next_word = unique_words[next_index]\n",
    "\n",
    "                    generated_text.append(next_word)\n",
    "                    generated_text = generated_text[1:]\n",
    "\n",
    "                    f.write(next_word)\n",
    "        \n",
    "        if model_file:\n",
    "            model.save(model_file)\n",
    "    \n",
    "train_model(text, words, unique_words, word_indices, 100, \"phyllis_script.txt\", \"phyllis.h5\")"
   ]
  },
  {
   "cell_type": "markdown",
   "metadata": {
    "_uuid": "6b7e8759ee010270ccae780cbe8729ee00435d2e"
   },
   "source": [
    "#### Using only the most common words\n",
    "\n",
    "Since I wanted to learn lines from all actors, I reduced the data by taking the 2000 most common words and considering the sentences only made solely of these words."
   ]
  },
  {
   "cell_type": "code",
   "execution_count": 18,
   "metadata": {
    "_uuid": "e654fc5ddc22cdf00c087fce4046b7f5f9bc2cbf"
   },
   "outputs": [
    {
     "name": "stdout",
     "output_type": "stream",
     "text": [
      "20795\n",
      "[(' ', 753327), ('.', 100099), (':', 60428), (',', 47960), (\"'\", 33029), ('i', 29843), ('you', 24675), ('?', 18735), ('the', 17982), ('to', 16773), ('a', 15401), ('michael', 15184), ('s', 14738), ('it', 13938), ('[', 12031), (']', 12021), ('and', 11393), ('that', 11344), ('!', 9991), ('dwight', 9905), ('jim', 8971), ('is', 8502), ('t', 8013), ('of', 7616), ('pam', 7208), ('in', 6985), ('what', 6608), ('-', 6245), ('no', 6047), ('we', 6032), ('this', 5906), ('on', 5283), ('andy', 5087), ('my', 5041), ('me', 5035), ('m', 4934), ('have', 4886), ('just', 4786), ('know', 4453), ('do', 4432), ('so', 4427), ('for', 4387), ('oh', 4340), ('not', 4332), ('don', 4071), ('are', 3965), ('re', 3696), ('be', 3612), ('was', 3608), ('he', 3554), ('your', 3490), ('can', 3484), ('0', 3453), ('with', 3433), ('like', 3381), ('all', 3309), ('yeah', 3237), ('’', 3209), ('okay', 2981), ('up', 2911), ('but', 2847), ('here', 2749), ('out', 2722), ('right', 2710), ('at', 2659), ('get', 2623), ('about', 2544), ('there', 2527), ('well', 2522), ('\"', 2435), ('hey', 2431), ('go', 2418), ('kevin', 2367), ('angela', 2302), ('think', 2283), ('good', 2248), ('one', 2194), ('they', 2167), ('if', 2064), ('really', 2039), ('ryan', 2035), ('oscar', 2030), ('how', 2028), ('going', 1999), ('erin', 1969), ('she', 1903), ('want', 1862), ('yes', 1733), ('would', 1722), ('her', 1682), ('did', 1674), ('darryl', 1653), ('uh', 1627), ('ll', 1620), ('his', 1602), ('let', 1581), ('now', 1572), ('phyllis', 1569), ('gonna', 1561), ('who', 1534), ('ok', 1529), ('from', 1517), ('an', 1502), ('come', 1477), ('got', 1453), ('back', 1449), ('as', 1448), ('him', 1436), ('will', 1420), ('jan', 1403), ('am', 1399), ('toby', 1384), ('why', 1355), ('kelly', 1355), ('see', 1323), ('or', 1323), ('time', 1317), ('stanley', 1253), ('because', 1237), ('some', 1237), ('say', 1209), ('when', 1168), ('could', 1158), ('look', 1144), ('ve', 1142), ('need', 1137), ('then', 1133), ('great', 1099), ('people', 1076), ('um', 1066), ('thank', 1062), ('man', 1048), ('very', 1046), ('office', 1038), ('take', 1034), ('guys', 1029), ('should', 1006), ('little', 998), ('meredith', 988), ('been', 986), ('make', 974), ('down', 964), ('over', 953), ('had', 938), ('phone', 937), ('mean', 932), ('sorry', 926), ('our', 922), ('has', 920), ('tell', 917), ('way', 904), ('something', 902), ('god', 897), ('them', 895), ('us', 889), ('into', 873), ('were', 862), ('where', 860), ('didn', 853), ('day', 853), ('more', 852), ('thing', 850), ('holly', 844), ('work', 839), ('off', 837), ('love', 826), ('by', 821), ('guy', 796), ('d', 795), ('two', 783), ('everyone', 766), ('please', 759), ('doing', 757), ('too', 749), ('david', 734), ('said', 687), ('much', 686), ('call', 685), ('maybe', 675), ('new', 667), ('never', 665), ('creed', 663), ('lot', 655), ('nellie', 653), ('gabe', 647), ('give', 646), ('sure', 640), ('robert', 632), ('talk', 626), ('wait', 625), ('stop', 620), ('alright', 617), ('even', 617), ('any', 616), ('nice', 611), ('actually', 610), ('these', 582), ('put', 580), ('thought', 576), ('today', 564), ('big', 560), ('does', 558), ('room', 548), ('wow', 544), ('around', 542), ('first', 540), ('laughs', 535), ('ever', 535), ('only', 534), ('everybody', 531), ('paper', 528), ('anything', 528), ('things', 519), ('looks', 518), ('job', 517), ('other', 517), ('hi', 505), ('party', 504), ('three', 500), ('away', 499), ('thanks', 496), ('feel', 495), ('those', 494), ('fine', 483), ('than', 483), ('still', 481), ('talking', 478), ('head', 465), ('car', 465), ('doesn', 460), ('kind', 458), ('karen', 458), ('last', 457), ('better', 453), ('which', 449), ('best', 446), ('hello', 437), ('again', 427), ('their', 426), ('…', 417), ('cool', 414), ('desk', 410), ('fun', 408), ('cause', 407), ('roy', 406), ('business', 402), ('made', 394), ('ah', 391), ('baby', 391), ('old', 390), ('life', 389), ('hand', 388), ('wanted', 385), ('name', 385), ('help', 385), ('company', 383), ('someone', 382), ('long', 378), ('after', 377), ('idea', 376), ('place', 374), ('keep', 373), ('always', 372), ('guess', 370), ('nothing', 369), ('next', 369), ('five', 368), ('night', 368), ('find', 366), ('bad', 365), ('year', 364), ('dunder', 361), ('real', 358), ('getting', 355), ('every', 354), ('years', 353), ('pretty', 353), ('huh', 352), ('everything', 351), ('manager', 349), ('door', 349), ('done', 344), ('mifflin', 344), ('deangelo', 342), ('second', 341), ('hmm', 341), ('before', 340), ('being', 340), ('through', 336), ('might', 336), ('home', 334), ('told', 331), ('looking', 331), ('leave', 329), ('walks', 328), ('wanna', 325), ('listen', 323), ('clark', 322), ('show', 320), ('gets', 320), ('coming', 319), ('mr', 319), ('hands', 319), ('face', 318), ('another', 315), ('whoa', 313), ('trying', 312), ('else', 312), ('try', 311), ('hear', 309), ('money', 308), ('together', 307), ('makes', 304), ('own', 304), ('also', 302), ('stuff', 301), ('scott', 300), ('pete', 298), ('whole', 295), ('charles', 295), ('ask', 293), ('probably', 288), ('saying', 287), ('woman', 285), ('happy', 285), ('wrong', 285), ('girl', 284), ('having', 283), ('jo', 283), ('boss', 282), ('believe', 282), ('both', 282), ('hot', 280), ('use', 279), ('scranton', 277), ('same', 277), ('camera', 272), ('went', 271), ('friend', 270), ('friends', 270), ('check', 269), ('anyone', 266), ('gotta', 264), ('sales', 263), ('called', 262), ('start', 262), ('care', 261), ('thinking', 261), ('hard', 261), ('play', 257), ('”', 255), ('person', 253), ('goes', 252), ('meeting', 248), ('wasn', 248), ('wallace', 247), ('voice', 246), ('many', 246), ('hold', 246), ('“', 246), ('won', 244), ('takes', 242), ('most', 241), ('making', 241), ('remember', 241), ('already', 240), ('sounds', 239), ('tonight', 236), ('part', 236), ('watch', 235), ('left', 235), ('understand', 235), ('morning', 234), ('meet', 234), ('question', 233), ('starts', 233), ('ha', 233), ('while', 232), ('says', 232), ('may', 232), ('stay', 232), ('mom', 232), ('point', 231), ('enough', 231), ('isn', 227), ('funny', 227), ('christmas', 226), ('totally', 225), ('bye', 224), ('high', 223), ('crazy', 223), ('bit', 223), ('game', 223), ('weird', 222), ('world', 220), ('heard', 220), ('number', 220), ('end', 218), ('somebody', 218), ('each', 218), ('break', 218), ('mind', 217), ('used', 217), ('mm', 216), ('stupid', 215), ('fire', 215), ('points', 212), ('course', 212), ('packer', 211), ('ready', 211), ('myself', 210), ('later', 210), ('wants', 210), ('wouldn', 209), ('conference', 209), ('important', 208), ('welcome', 208), ('happened', 207), ('singing', 206), ('once', 205), ('seen', 204), ('taking', 204), ('deal', 203), ('laughing', 203), ('though', 202), ('under', 200), ('sighs', 200), ('four', 198), ('lunch', 198), ('problem', 198), ('family', 197), ('sometimes', 195), ('kids', 195), ('schrute', 194), ('exactly', 194), ('eat', 192), ('excuse', 191), ('minutes', 190), ('move', 190), ('working', 189), ('saw', 189), ('sit', 189), ('bring', 187), ('hit', 187), ('warehouse', 186), ('run', 185), ('turns', 185), ('week', 185), ('true', 185), ('times', 184), ('todd', 184), ('comes', 184), ('supposed', 183), ('food', 182), ('awesome', 182), ('hate', 180), ('nope', 180), ('ten', 179), ('kidding', 179), ('front', 177), ('few', 176), ('mmm', 176), ('open', 176), ('line', 175), ('couple', 174), ('playing', 174), ('yet', 173), ('different', 173), ('knew', 172), ('turn', 172), ('em', 170), ('group', 169), ('corporate', 168), ('wish', 168), ('gay', 168), ('yep', 168), ('birthday', 168), ('school', 168), ('came', 167), ('yourself', 167), ('walk', 167), ('branch', 166), ('until', 166), ('must', 165), ('six', 164), ('buy', 164), ('leaves', 164), ('haven', 163), ('dog', 163), ('wife', 163), ('took', 163), ('house', 162), ('movie', 162), ('holds', 162), ('women', 161), ('perfect', 160), ('hour', 160), ('computer', 160), ('read', 159), ('half', 159), ('such', 159), ('hope', 158), ('drive', 157), ('set', 156), ('hell', 156), ('nobody', 155), ('picture', 155), ('started', 154), ('close', 153), ('bob', 153), ('damn', 153), ('table', 153), ('sex', 153), ('without', 152), ('halpert', 152), ('side', 152), ('kid', 151), ('top', 151), ('means', 151), ('wedding', 150), ('card', 150), ('puts', 150), ('pick', 150), ('heart', 149), ('box', 149), ('—', 149), ('sound', 147), ('ago', 146), ('black', 146), ('ya', 146), ('date', 146), ('shut', 146), ('joke', 145), ('since', 145), ('word', 145), ('whatever', 145), (';', 145), ('team', 144), ('days', 144), ('cut', 143), ('serious', 143), ('chair', 143), ('carol', 143), ('happen', 142), ('found', 141), ('pay', 141), ('seriously', 141), ('donna', 141), ('sign', 140), ('win', 139), ('laugh', 139), ('bathroom', 139), ('gone', 139), ('coffee', 139), ('dollars', 138), ('definitely', 138), ('$', 138), ('anybody', 138), ('gave', 138), ('throw', 137), ('lost', 137), ('attention', 136), ('drink', 136), ('walking', 133), ('easy', 133), ('live', 133), ('anymore', 133), ('case', 133), ('terrible', 133), ('sort', 132), ('needs', 132), ('sell', 132), ('katy', 132), ('behind', 131), ('salesman', 131), ('throws', 131), ('seems', 131), ('gift', 131), ('dead', 130), ('video', 130), ('hangs', 129), ('asked', 129), ('eyes', 129), ('miss', 129), ('order', 128), ('beautiful', 128), ('sitting', 128), ('york', 128), ('girlfriend', 128), ('hours', 127), ('calling', 127), ('boy', 127), ('knows', 126), ('client', 126), ('plan', 126), ('matter', 126), ('absolutely', 125), ('change', 125), ('tomorrow', 125), ('story', 125), ('months', 125), ('cell', 123), ('men', 123), ('outside', 123), ('sense', 123), ('news', 123), ('amazing', 123), ('mine', 122), ('whispering', 122), ('mose', 122), ('raise', 121), ('excited', 121), ('telling', 121), ('late', 121), ('pizza', 121), ('runs', 120), ('answer', 120), ('parking', 120), ('its', 120), ('list', 120), ('ooh', 120), ('sir', 119), ('between', 119), ('watching', 119), ('water', 119), ('forget', 119), ('far', 118), ('least', 118), ('leaving', 118), ('rings', 117), ('building', 117), ('free', 117), ('ball', 117), ('hair', 117), ('shakes', 117), ('special', 116), ('ahead', 116), ('reason', 116), ('inside', 116), ('senator', 116), ('na', 116), ('clients', 115), ('full', 115), ('val', 115), ('small', 114), ('minute', 114), ('throat', 113), ('either', 113), ('store', 113), ('wearing', 113), ('gives', 113), ('couldn', 112), ('month', 112), ('almost', 112), ('obviously', 112), ('stand', 112), ('lady', 112), ('kinda', 111), ('pulls', 111), ('worry', 110), ('o', 110), ('personal', 110), ('works', 110), ('cake', 110), ('nods', 109), ('seven', 108), ('assistant', 108), ('holding', 108), ('rest', 108), ('bar', 108), ('sees', 108), ('idiot', 107), ('whispers', 107), ('reading', 107), ('song', 107), ('chuckles', 107), ('anyway', 106), ('fact', 106), ('luck', 106), ('fired', 106), ('red', 106), ('dad', 106), ('ugh', 106), ('mouth', 106), ('die', 105), ('josh', 104), ('seat', 104), ('write', 104), ('ladies', 104), ('book', 104), ('dating', 103), ('sick', 103), ('ice', 103), ('regional', 102), ('bet', 102), ('kill', 102), ('kiss', 102), ('hundred', 102), ('married', 101), ('send', 101), ('body', 101), ('son', 101), ('girls', 100), ('met', 100), ('learn', 100), ('e', 100), ('floor', 99), ('surprise', 99), ('danny', 99), ('cute', 98), ('favorite', 98), ('employee', 98), ('against', 98), ('shot', 98), ('air', 98), ('jessica', 98), ('interesting', 97), ('lose', 97), ('dinner', 97), ('music', 97), ('cannot', 96), ('secret', 96), ('seem', 96), ('machine', 96), ('shouldn', 96), ('bernard', 96), ('brought', 95), ('weekend', 95), ('opens', 95), ('nine', 95), ('alone', 95), ('cece', 95), ('mother', 94), ('weeks', 94), ('soon', 94), ('relationship', 94), ('blood', 94), ('eight', 94), ('crying', 93), ('fair', 93), ('mike', 93), ('cat', 92), ('worst', 92), ('asking', 92), ('along', 92), ('eating', 92), ('ow', 92), ('umm', 92), ('smart', 92), ('shh', 92), ('vance', 92), ('decided', 91), ('thinks', 91), ('white', 91), ('hospital', 91), ('tuna', 91), ('cold', 91), ('c', 91), ('sweet', 91), ('sabre', 91), ('chance', 90), ('dude', 90), ('fake', 90), ('fast', 90), ('blah', 90), ('giving', 89), ('bed', 89), ('suck', 89), ('boat', 89), ('quick', 88), ('moment', 88), ('save', 88), ('spend', 88), ('wall', 88), ('/', 88), ('trip', 88), ('hurt', 87), ('figure', 87), ('bunch', 87), ('hank', 87), ('enters', 87), ('bag', 86), ('single', 86), ('ass', 86), ('questions', 86), ('less', 86), ('feeling', 86), ('worker', 86), ('early', 86), ('piece', 86), ('clear', 86), ('glad', 86), ('ho', 86), ('middle', 86), ('ideas', 86), ('words', 85), ('running', 85), ('message', 85), ('suit', 85), ('&', 85), ('window', 85), ('smiles', 85), ('raises', 85), ('himself', 84), ('aren', 84), ('able', 84), ('standing', 84), ('entire', 83), ('shows', 83), ('charge', 83), ('city', 83), ('buddy', 83), ('fight', 83), ('cathy', 83), ('sale', 82), ('pull', 82), ('accent', 82), ('step', 82), ('busy', 82), ('picks', 82), ('ring', 82), ('speak', 81), ('worked', 81), ('doctor', 81), ('respect', 81), ('follow', 81), ('appreciate', 81), ('boom', 81), ('customer', 81), ('offer', 81), ('bus', 81), ('happens', 81), ('starting', 81), ('wear', 81), ('sits', 81), ('ahh', 81), ('bought', 80), ('father', 80), ('huge', 80), ('captain', 80), ('sent', 79), ('fall', 79), ('past', 79), ('calls', 79), ('feels', 79), ('gun', 79), ('trust', 79), ('except', 79), ('club', 79), ('la', 79), ('santa', 79), ('mistake', 78), ('clears', 78), ('power', 78), ('beat', 78), ('none', 78), ('co', 78), ('unless', 78), ('fat', 78), ('kitchen', 78), ('pants', 78), ('normal', 78), ('thousand', 77), ('brown', 77), ('instead', 77), ('feet', 77), ('jack', 77), ('dance', 77), ('seeing', 77), ('nate', 77), ('yup', 76), ('rules', 76), ('forgot', 76), ('possible', 76), ('agree', 76), ('sleep', 76), ('hits', 76), ('worth', 75), ('twenty', 75), ('young', 75), ('yours', 75), ('note', 75), ('dream', 74), ('child', 74), ('human', 74), ('talked', 74), ('decision', 74), ('hang', 74), ('tried', 74), ('moving', 74), ('lives', 73), ('grabs', 73), ('wrote', 73), ('knocks', 73), ('conversation', 73), ('enjoy', 72), ('learned', 72), ('truck', 72), ('shirt', 72), ('foot', 72), ('whoo', 72), ('applause', 72), ('town', 72), ('ohh', 72), ('boyfriend', 72), ('information', 71), ('clean', 71), ('touch', 71), ('push', 71), ('happening', 71), ('mad', 71), ('butt', 71), ('waiting', 71), ('farm', 71), ('cheers', 71), ('brian', 71), ('felt', 70), ('truth', 70), ('likes', 70), ('gosh', 70), ('ride', 70), ('cream', 70), ('dogs', 70), ('goodbye', 70), ('finally', 69), ('class', 69), ('tough', 69), ('tv', 69), ('using', 69), ('text', 69), ('helene', 69), ('‘', 69), ('begins', 68), ('promise', 68), ('ground', 68), ('count', 68), ('congratulations', 68), ('tries', 68), ('screen', 68), ('super', 68), ('eye', 67), ('present', 67), ('numbers', 67), ('parents', 67), ('cry', 67), ('brain', 67), ('planning', 67), ('speaking', 67), ('aw', 67), ('jump', 67), ('cup', 67), ('grab', 67), ('wonderful', 67), ('dressed', 67), ('florida', 67), ('receptionist', 66), ('brother', 66), ('art', 66), ('needed', 66), ('forward', 66), ('clapping', 66), ('sad', 66), ('situation', 66), ('hug', 66), ('excellent', 65), ('temp', 65), ('cards', 65), ('problems', 65), ('rock', 65), ('basically', 65), ('america', 65), ('choice', 65), ('dancing', 65), ('towards', 65), ('b', 65), ('driving', 65), ('da', 65), ('scared', 64), ('stick', 64), ('completely', 64), ('listening', 64), ('king', 64), ('extra', 64), ('handle', 64), ('kisses', 64), ('strong', 64), ('missed', 64), ('future', 64), ('taken', 64), ('shoot', 63), ('bottle', 63), ('hotel', 63), ('roll', 63), ('children', 63), ('email', 63), ('daughter', 63), ('ex', 63), ('quit', 63), ('husband', 63), ('bitch', 62), ('ridiculous', 62), ('howard', 62), ('control', 62), ('tape', 62), ('loud', 62), ('dundies', 62), ('stands', 62), ('hugs', 62), ('arm', 62), ('gentlemen', 62), ('clothes', 62), ('college', 62), ('police', 62), ('tom', 62), ('laughter', 62), ('susan', 62), ('interview', 61), ('employees', 61), ('knock', 61), ('monster', 61), ('punch', 61), ('ed', 61), ('cornell', 61), ('accounting', 60), ('during', 60), ('shoes', 60), ('mark', 60), ('shake', 60), ('chocolate', 60), ('imagine', 60), ('spent', 60), ('street', 60), ('tiny', 60), ('bill', 60), ('pregnant', 60), ('continues', 59), ('claps', 59), ('explain', 59), ('cover', 59), ('catch', 59), ('longer', 59), ('plays', 59), ('#', 59), ('wonder', 59), ('loves', 59), ('dress', 59), ('scarn', 59), ('wine', 59), ('*', 59), ('%', 58), ('plus', 58), ('space', 58), ('star', 58), ('worse', 58), ('usually', 58), ('glasses', 58), ('confused', 58), ('teacher', 58), ('leads', 58), ('yesterday', 57), ('double', 57), ('meant', 57), ('earlier', 57), ('expect', 57), ('breath', 57), ('blue', 57), ('fault', 57), ('broke', 57), ('realize', 57), ('others', 57), ('position', 57), ('board', 56), ('biggest', 56), ('tree', 56), ('mon', 56), ('elevator', 56), ('p', 56), ('key', 56), ('falls', 56), ('tie', 56), ('character', 56), ('candy', 56), ('delivery', 56), ('trouble', 56), ('crowd', 56), ('bear', 56), ('liked', 56), ('upset', 56), ('copy', 56), ('road', 56), ('honest', 56), ('engaged', 55), ('nervous', 55), ('test', 55), ('chicken', 55), ('cheese', 55), ('history', 55), ('seconds', 55), ('blow', 55), ('join', 55), ('interested', 55), ('honestly', 55), ('pause', 55), ('–', 55), ('copier', 54), ('record', 54), ('straight', 54), ('lie', 54), ('american', 54), ('awful', 54), ('smell', 54), ('sing', 54), ('service', 54), ('wha', 54), ('finger', 54), ('beet', 54), ('j', 54), ('prison', 54), ('california', 54), ('died', 54), ('imitating', 53), ('literally', 53), ('race', 53), ('simple', 53), ('training', 53), ('martin', 53), ('giggles', 53), ('light', 53), ('sandwich', 53), ('pounds', 53), ('apparently', 53), ('honey', 53), ('afternoon', 53), ('committee', 53), ('valentine', 53), ('phillip', 53), ('daryl', 53), ('corner', 52), ('act', 52), ('file', 52), ('cookie', 52), ('workers', 52), ('finish', 52), ('become', 52), ('y', 52), ('mail', 52), ('arms', 52), ('lying', 52), ('romantic', 52), ('hat', 52), ('philly', 52), ('ad', 52), ('forever', 51), ('fax', 51), ('invited', 51), ('lead', 51), ('total', 51), ('spot', 51), ('state', 51), ('photo', 51), ('smile', 51), ('form', 51), ('security', 51), ('shower', 51), ('living', 51), ('disgusting', 51), ('mmhmm', 51), ('safe', 51), ('k', 51), ('closed', 51), ('rather', 51), ('war', 51), ('quietly', 50), ('third', 50), ('putting', 50), ('pretend', 50), ('bleep', 50), ('experience', 50), ('throwing', 50), ('named', 50), ('toward', 50), ('looked', 50), ('known', 50), ('weren', 50), ('age', 50), ('private', 50), ('neck', 50), ('kay', 50), ('changed', 50), ('hire', 50), ('harry', 50), ('billy', 50), ('hole', 50), ('insane', 50), ('eric', 50), ('type', 49), ('horrible', 49), ('pennsylvania', 49), ('slow', 49), ('difference', 49), ('bucks', 49), ('area', 49), ('paid', 49), ('sold', 49), ('animal', 49), ('across', 49), ('nurse', 49), ('quickly', 49), ('apologize', 49), ('luke', 49), ('hilarious', 48), ('shall', 48), ('waste', 48), ('worried', 48), ('reads', 48), ('acting', 48), ('names', 48), ('stops', 48), ('daddy', 48), ('drunk', 48), ('hoo', 48), ('honor', 48), ('management', 48), ('sings', 48), ('thirty', 48), ('hanging', 48), ('turned', 48), ('accept', 48), ('ear', 47), ('lights', 47), ('cookies', 47), ('website', 47), ('heads', 47), ('noise', 47), ('movies', 47), ('pain', 47), ('host', 47), ('poor', 47), ('r', 47), ('level', 47), ('answers', 47), ('fit', 47), ('weight', 47), ('presentation', 47), ('ben', 47), ('million', 46), ('hr', 46), ('ones', 46), ('lots', 46), ('band', 46), ('crew', 46), ('clearly', 46), ('lame', 46), ('given', 46), ('player', 46), ('wondering', 46), ('smiling', 46), ('short', 46), ('share', 46), ('quite', 46), ('feelings', 46), ('monkey', 46), ('breakfast', 46), ('games', 46), ('loved', 46), ('warm', 46), ('hungry', 46), ('gasps', 46), ('president', 46), ('low', 45), ('safety', 45), ('screw', 45), ('round', 45), ('somewhere', 45), ('department', 45), ('indian', 45), ('treat', 45), ('gotten', 45), ('near', 45), ('self', 45), ('moves', 45), ('button', 45), ('penis', 45), ('hide', 45), (')', 45), ('sleeping', 45), ('death', 45), ('glass', 45), ('consider', 45), ('sexual', 45), ('angry', 45), ('proud', 45), ('fish', 45), ('lucky', 45), ('sister', 45), ('franklin', 45), ('isabel', 45), ('fingers', 44), ('gross', 44), ('staff', 44), ('member', 44), ('percent', 44), ('style', 44), ('bigger', 44), ('fill', 44), ('writing', 44), ('mall', 44), ('jobs', 44), ('per', 44), ('fantastic', 44), ('recently', 44), ('program', 44), ('babies', 44), ('pie', 44), ('belt', 44), ('drinking', 44), ('hoping', 44), ('fifty', 44), ('toilet', 44), ('advice', 44), ('performance', 44), ('correct', 44), ('salad', 44), ('gym', 44), ('mug', 43), ('stamford', 43), ('steal', 43), ('celebrate', 43), ('choose', 43), ('hero', 43), ('teach', 43), ('code', 43), ('hmmm', 43), ('pleasure', 43), ('milk', 43), ('picked', 43), ('beer', 43), ('background', 43), ('stuck', 43), ('fell', 43), ('park', 43), ('press', 43), ('goldenface', 43), ('owe', 43), ('crap', 43), ('pool', 43), ('size', 43), ('walter', 43), ('professional', 42), ('ain', 42), ('several', 42), ('certain', 42), ('empty', 42), ('played', 42), ('system', 42), ('improv', 42), ('closes', 42), ('hired', 42), ('tickets', 42), ('bird', 42), ('turning', 42), ('twice', 42), ('upstairs', 42), ('classic', 42), ('nah', 42), ('speakerphone', 42), ('deep', 42), ('killed', 42), ('egg', 42), ('horse', 42), ('opportunity', 42), ('caught', 42), ('hm', 42), ('pictures', 42), ('andrew', 42), ('nick', 42), ('grotti', 42), ('garbage', 41), ('memo', 41), ('closing', 41), ('mess', 41), ('cash', 41), ('figured', 41), ('credit', 41), ('teeth', 41), ('drop', 41), ('keys', 41), ('kev', 41), ('magic', 41), ('kept', 41), ('trash', 41), ('naked', 41), ('reception', 41), ('n', 41), ('sexy', 41), ('calm', 41), ('large', 41), ('cost', 41), ('impossible', 41), ('letter', 41), ('mrs', 41), ('toast', 41), ('zero', 41), ('prince', 41), ('aj', 41), ('lipton', 41), ('trevor', 41), ('esther', 41), ('yelling', 40), ('grandfather', 40), ('color', 40), ('delicious', 40), ('w', 40), ('friday', 40), ('transfer', 40), ('officer', 40), ('de', 40), ('nose', 40), ('broken', 40), ('exhales', 40), ('written', 40), ('fan', 40), ('public', 40), ('halloween', 40), ('costume', 40), ('online', 40), ('awkward', 40), ('drives', 40), ('twelve', 40), ('summer', 40), ('fear', 40), ('master', 39), ('dollar', 39), ('price', 39), ('born', 39), ('notice', 39), ('reasons', 39), ('allowed', 39), ('plans', 39), ('scoffs', 39), ('beep', 39), ('clock', 39), ('tea', 39), ('pass', 39), ('hearing', 39), ('although', 39), ('alan', 39), ('award', 39), ('notices', 39), ('places', 39), ('grow', 39), ('famous', 39), ('refrigeration', 39), ('groans', 39), ('toy', 39), ('selling', 39), ('messed', 39), ('merry', 39), ('decide', 39), ('grunts', 38), ('relax', 38), ('deserve', 38), ('ways', 38), ('country', 38), ('freak', 38), ('beach', 38), ('shoulder', 38), ('alive', 38), ('favor', 38), ('walked', 38), ('till', 38), ('smoke', 38), ('regular', 38), ('woo', 38), ('pack', 38), ('tall', 38), ('rule', 38), ('waitress', 38), ('fix', 38), ('restaurant', 38), ('secretary', 38), ('female', 38), ('drugs', 38), ('plane', 38), ('christian', 38), ('waves', 38), ('opening', 38), ('coat', 38), ('anywhere', 38), ('force', 38), ('forty', 38), ('volunteer', 37), ('drops', 37), ('above', 37), ('ugly', 37), ('health', 37), ('green', 37), ('quiet', 37), ('sheet', 37), ('th', 37), ('bout', 37), ('waiter', 37), ('gas', 37), ('jacket', 37), ('boys', 37), ('dangerous', 37), ('condo', 37), ('roof', 37), ('quarter', 37), ('common', 37), ('wake', 37), ('tony', 37), ('meat', 37), ('male', 37), ('pum', 36), ('mostly', 36), ('losing', 36), ('documentary', 36), ('whose', 36), ('rolls', 36), ('drinks', 36), ('amount', 36), ('pocket', 36), ('chairs', 36), ('ran', 36), ('report', 36), ('cancel', 36), ('announcement', 36), ('entering', 36), ('local', 36), ('sucks', 36), ('dare', 36), ('invite', 36), ('fresh', 36), ('boring', 35), ('lovely', 35), ('meetings', 35), ('especially', 35), ('immediately', 35), ('gold', 35), ('inappropriate', 35), ('earth', 35), ('herself', 35), ('exciting', 35), ('pen', 35), ('vacation', 35), ('boo', 35), ('tour', 35), ('fist', 35), ('speech', 35), ('talks', 35), ('blows', 35), ('comfortable', 35), ('voicemail', 35), ('market', 35), ('stopped', 35), ('parties', 35), ('cleaning', 35), ('bike', 35), ('annex', 35), ('apology', 35), ('golden', 35), ('scene', 34), ('whether', 34), ('frankly', 34), ('sheriff', 34), ('post', 34), ('driver', 34), ('james', 34), ('pop', 34), ('covered', 34), ('land', 34), ('hasn', 34), ('official', 34), ('surprised', 34), ('goin', 34), ('older', 34), ('internet', 34), ('smells', 34), ('noises', 34), ('loudly', 34), ('lets', 34), ('rude', 34), ('onto', 34), ('speaker', 34), ('stares', 34), ('dammit', 34), ('buying', 34), ('uncomfortable', 34), ('contest', 34), ('return', 34), ('wheel', 34), ('keeping', 34), ('shirley', 34), ('ticket', 34), ('jake', 34), ('prank', 34), ('hay', 34), ('frank', 34), ('jada', 34), ('lice', 34), ('jerk', 33), ('support', 33), ('noticed', 33), ('tears', 33), ('moved', 33), ('prove', 33), ('freaking', 33), ('cares', 33), ('misses', 33), ('chest', 33), ('afraid', 33), ('pushes', 33), ('slams', 33), ('nuts', 33), ('tight', 33), ('careful', 33), ('chain', 33), ('winner', 33), ('review', 33), ('kissing', 33), ('marriage', 33), ('fancy', 33), ('theme', 33), ('helping', 33), ('ship', 33), ('possibly', 33), ('following', 33), ('ipod', 33), ('moon', 33), ('van', 33), ('giant', 33), ('diane', 33), ('contract', 33), ('german', 32), ('model', 32), ('introduce', 32), ('books', 32), ('cats', 32), ('account', 32), ('breaking', 32), ('fly', 32), ('based', 32), ('asleep', 32), ('action', 32), ('skin', 32), ('hunter', 32), ('higher', 32), ('slowly', 32), ('stole', 32), ('mural', 32), ('mary', 32), ('island', 32), ('center', 32), ('sports', 32), ('lake', 32), ('salesmen', 32), ('breaks', 32), ('visit', 32), ('policy', 32), ('discuss', 32), ('begin', 32), ('bowl', 32), ('enter', 32), ('keeps', 32), ('kick', 32), ('apartment', 32), ('sensei', 32), ('midnight', 32), ('affair', 32), ('jumps', 32), ('field', 32), ('(', 32), ('boobs', 32), ('rich', 32), ('woah', 32), ('lately', 32), ('hannah', 32), ('jamaica', 32), ('basket', 31), ('downsizing', 31), ('role', 31), ('workplace', 31), ('success', 31), ('leg', 31), ('lower', 31), ('monday', 31), ('passed', 31), ('bread', 31), ('cousin', 31), ('bonus', 31), ('lawyer', 31), ('eh', 31), ('filled', 31), ('shop', 31), ('seats', 31), ('uhh', 31), ('legs', 31), ('agreed', 31), ('prices', 31), ('accident', 31), ('coughs', 31), ('babe', 31), ('taste', 31), ('leans', 31), ('boxes', 31), ('brad', 31), ('abby', 31), ('apple', 31), ('vikram', 31), ('broccoli', 31), ('carpet', 30), ('john', 30), ('microphone', 30), ('silence', 30), ('offensive', 30), ('signed', 30), ('ringing', 30), ('court', 30), ('further', 30), ('final', 30), ('admit', 30), ('miles', 30), ('crush', 30), ('lesson', 30), ('cross', 30), ('greatest', 30), ('basketball', 30), ('doo', 30), ('neither', 30), ('promised', 30), ('purse', 30), ('checks', 30), ('station', 30), ('handsome', 30), ('removes', 30), ('bedroom', 30), ('burn', 30), ('trick', 30), ('focus', 30), ('scary', 30), ('dirty', 30), ('emergency', 30), ('pressure', 30), ('plenty', 30), ('gimme', 30), ('continue', 30), ('suggestion', 30), ('reaches', 30), ('flowers', 30), ('ms', 30), ('photographer', 30), ('painting', 30), ('changes', 30), ('cindy', 30), ('printer', 30), ('nard', 30), ('brandon', 30), ('certainly', 29), ('salary', 29), ('upon', 29), ('cuts', 29), ('checked', 29), ('directly', 29), ('wrap', 29), ('involved', 29), ('circle', 29), ('baseball', 29), ('saved', 29), ('specific', 29), ('genius', 29), ('cheer', 29), ('phones', 29), ('remind', 29), ('dot', 29), ('paying', 29), ('knife', 29), ('reach', 29), ('often', 29), ('threw', 29), ('hates', 29), ('sun', 29), ('exits', 29), ('princess', 29), ('fail', 29), ('fifteen', 29), ('heh', 29), ('dreams', 29), ('film', 29), ('jesus', 29), ('ate', 29), ('missing', 29), ('marry', 29), ('spanish', 29), ('butter', 29), ('dirt', 29), ('faces', 29), ('melissa', 29), ('dying', 29), ('beans', 29), ('justin', 29), ('student', 28), ('agreement', 28), ('attack', 28), ('seminar', 28), ('embarrassed', 28), ('spirit', 28), ('exercise', 28), ('discount', 28), ('whenever', 28), ('dumb', 28), ('italian', 28), ('charity', 28), ('stomach', 28), ('kenny', 28), ('prize', 28), ('stage', 28), ('swear', 28), ('impression', 28), ('yo', 28), ('creative', 28), ('rachel', 28), ('technically', 28), ('humor', 28), ('obvious', 28), ('goodness', 28), ('papers', 28), ('apart', 28), ('crime', 28), ('sixty', 28), ('penny', 28), ('bell', 28), ('closer', 28), ('kicks', 28), ('screaming', 28), ('golf', 28), ('vending', 28), ('ceiling', 28), ('paint', 28), ('rob', 28), ('draw', 28), ('jordan', 28), ('realized', 28), ('screams', 28), ('clip', 28), ('elizabeth', 28), ('rabies', 28), ('balls', 28), ('lester', 28), ('ceo', 28), ('carla', 28), ('irene', 28), ('hct', 28), ('casey', 28), ('gentleman', 27), ('beesly', 27), ('levinson', 27), ('add', 27), ('appropriate', 27), ('pencil', 27), ('bother', 27), ('steve', 27), ('scores', 27), ('showing', 27), ('barely', 27), ('english', 27), ('pushing', 27), ('ends', 27), ('mini', 27), ('accountant', 27), ('besides', 27), ('helpful', 27), ('guests', 27), ('french', 27), ('train', 27), ('wild', 27), ('eats', 27), ('cow', 27), ('steps', 27), ('bottom', 27), ('shame', 27), ('hook', 27), ('dark', 27), ('pretends', 27), ('stress', 27), ('due', 27), ('f', 27), ('kapoor', 27), ('mama', 27), ('harder', 27), ('expensive', 27), ('locked', 27), ('attractive', 27), ('law', 27), ('address', 27), ('financial', 27), ('image', 27), ('hall', 27), ('interrupting', 27), ('wash', 27), ('contact', 27), ('extremely', 27), ('search', 27), ('wide', 27), ('stairs', 27), ('radio', 27), ('cruise', 27), ('normally', 27), ('ahhh', 27), ('doin', 27), ('church', 27), ('screwed', 27), ('aunt', 27), ('stripper', 27), ('wimowheh', 27), ('farms', 27), ('lynn', 27), ('bert', 27), ('messages', 26), ('gifts', 26), ('rep', 26), ('meaning', 26), ('lips', 26), ('comedy', 26), ('firing', 26), ('x', 26), ('dundie', 26), ('stories', 26), ('aww', 26), ('insurance', 26), ('agent', 26), ('killer', 26), ('wet', 26), ('specifically', 26), ('item', 26), ('saturday', 26), ('lonny', 26), ('loser', 26), ('whoever', 26), ('shooting', 26), ('drug', 26), ('grown', 26), ('ohhh', 26), ('guitar', 26), ('package', 26), ('partner', 26), ('settle', 26), ('pill', 26), ('bags', 26), ('killing', 26), ('became', 26), ('resume', 26), ('l', 26), ('bringing', 26), ('unfortunately', 26), ('beth', 26), ('rid', 26), ('hudson', 26), ('professor', 26), ('quality', 26), ('issue', 26), ('knowing', 26), ('china', 26), ('pound', 26), ('duty', 26), ('phil', 26), ('animals', 26), ('jerry', 26), ('jr', 26), ('dump', 26), ('printers', 26), ('classy', 26), ('troy', 26), ('kathy', 26), ('matt', 26), ('blind', 25), ('exact', 25), ('complaint', 25), ('copies', 25), ('environment', 25), ('devon', 25), ('bat', 25), ('expecting', 25), ('shhh', 25), ('dear', 25), ('blonde', 25), ('example', 25), ('responsibility', 25), ('dah', 25), ('complicated', 25), ('oooh', 25), ('click', 25), ('shopping', 25), ('project', 25), ('jokes', 25), ('flying', 25), ('reveal', 25), ('staying', 25), ('yay', 25), ('hadn', 25)]\n"
     ]
    }
   ],
   "source": [
    "text = get_text()\n",
    "text = replace_numbers(text)\n",
    "words = split_into_words(text, consider_words)\n",
    "words_counter = Counter(words)\n",
    "print(len(words_counter))\n",
    "print(words_counter.most_common(2000))"
   ]
  },
  {
   "cell_type": "code",
   "execution_count": null,
   "metadata": {
    "_uuid": "e2ef0fe6563445ec8b88f15cde154b9079e5ebd9"
   },
   "outputs": [
    {
     "name": "stdout",
     "output_type": "stream",
     "text": [
      "2000\n"
     ]
    }
   ],
   "source": [
    "top_words = []\n",
    "for word, count in words_counter.most_common(2000):\n",
    "        top_words.append(word)\n",
    "\n",
    "print(len(top_words))\n",
    "\n",
    "def get_lines_with_words(top_words):\n",
    "    selected_lines = []\n",
    "    text = get_text()\n",
    "    lines = text.split(\"\\n\")\n",
    "    for line in lines:\n",
    "        line = replace_numbers(line)\n",
    "        words_in_line = split_into_words(line, consider_words)\n",
    "        excluded_words = 0\n",
    "        for word_in_line in words_in_line:\n",
    "            if word_in_line not in top_words:\n",
    "                excluded_words += 1\n",
    "                break\n",
    "        if not excluded_words:\n",
    "            selected_lines.append(line)\n",
    "    return selected_lines\n",
    "                \n",
    "                \n",
    "selected_lines = get_lines_with_words(top_words)\n",
    "print(len(selected_lines))\n",
    "print(selected_lines[:100])"
   ]
  },
  {
   "cell_type": "code",
   "execution_count": null,
   "metadata": {
    "_uuid": "7eeba715907f419ec26128e791a48d7f320704ab"
   },
   "outputs": [],
   "source": [
    "selected_text = \"\\n\".join(selected_lines)\n",
    "\n",
    "selected_text = replace_numbers(selected_text)\n",
    "selected_words = split_into_words(selected_text, consider_words)"
   ]
  },
  {
   "cell_type": "code",
   "execution_count": null,
   "metadata": {
    "_uuid": "d06b774ca35619e755a177c99097934d971d8850"
   },
   "outputs": [],
   "source": [
    "x, y, unique_words, word_indices = setup_inputs(selected_words, maxlen, step)"
   ]
  },
  {
   "cell_type": "code",
   "execution_count": null,
   "metadata": {
    "_uuid": "87dbeb4e362f4b2fbda0a81e13398550c53bd8cd"
   },
   "outputs": [],
   "source": [
    "model = build_model(maxlen, len(unique_words))\n",
    "train_model(selected_text, selected_words, unique_words, word_indices, 100, \"generated_script.txt\", \"top_lines.h5\")        "
   ]
  },
  {
   "cell_type": "code",
   "execution_count": null,
   "metadata": {
    "_uuid": "7198bfef49cf1f46f2dc585aff0b18fe837619d9"
   },
   "outputs": [],
   "source": []
  }
 ],
 "metadata": {
  "kernelspec": {
   "display_name": "Python [default]",
   "language": "python",
   "name": "python3"
  },
  "language_info": {
   "codemirror_mode": {
    "name": "ipython",
    "version": 3
   },
   "file_extension": ".py",
   "mimetype": "text/x-python",
   "name": "python",
   "nbconvert_exporter": "python",
   "pygments_lexer": "ipython3",
   "version": "3.6.6"
  }
 },
 "nbformat": 4,
 "nbformat_minor": 1
}
